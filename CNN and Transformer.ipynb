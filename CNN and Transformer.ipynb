{
  "cells": [
    {
      "cell_type": "markdown",
      "metadata": {
        "id": "ufmHMbThnWEs"
      },
      "source": [
        "# Problem 2: MNIST: Hand-written digit classification"
      ]
    },
    {
      "cell_type": "code",
      "execution_count": null,
      "metadata": {
        "id": "bSnMFngy9sPA"
      },
      "outputs": [],
      "source": [
        "import numpy as np\n",
        "import matplotlib.pyplot as plt\n",
        "%matplotlib inline\n",
        "\n",
        "import torch\n",
        "import torch.nn as nn\n",
        "import torch.nn.functional as F\n",
        "from torchvision import datasets, transforms"
      ]
    },
    {
      "cell_type": "markdown",
      "metadata": {
        "id": "zwocJbzfnZv5"
      },
      "source": [
        "## Loading MNIST\n",
        "The `torchvision` module contains links to many standard datasets. We can load the MNIST dataset into a `Dataset` object as follows:"
      ]
    },
    {
      "cell_type": "code",
      "execution_count": null,
      "metadata": {
        "id": "6NUqKdYrFpXA",
        "colab": {
          "base_uri": "https://localhost:8080/",
          "height": 455,
          "referenced_widgets": [
            "e69dedd4148c457d8aab9412f611e58b",
            "508a3c23f94040c58f0d955b08dc0c85",
            "c036da9381904bf8b4feb305155f09a4",
            "473f37b81e6a40b1885dcf887e82a59e",
            "1d1b7230f0bd4391ace4aa18ad86dabc",
            "591b945982a2486d91283fc17234efa8",
            "c0b616fdb3264c1b87cc8d06d2baa0dc",
            "d4e6479cb0fd4701a460768def91122c",
            "d4be363c065640fd9dd0f8a8a88d4357",
            "87559191915d431a93eb49b15d58e2b8",
            "ff2eb4df582a45caa6490910b47e699b",
            "623b1706177b4bcc9bd8b6fd93a7109d",
            "c8f7b94ea5bf43dcbe54e0b066748e20",
            "bcc7086245a247ac9b94889796862a8a",
            "9d0b917bf4f8408fa31bad2bb66c405d",
            "c67f0221a8224324b013e4bf413199fa",
            "931bba1cce90408bb6f405029e9b5d6a",
            "94aee18f9983403bbffc59cc40ca4004",
            "1a50571798ef478599af0aa3c51db5cb",
            "1ba8749b7c9942a0b32d40cf08d5f6ca",
            "2214908d688441e18f5b296652bde42e",
            "1238ca36a4784654a9d27e2220ec20b8",
            "528ed5d663d44e0aa793743dd8d34b80",
            "952076da15504404a5b01963c4f9325e",
            "f00ad07368b14339b0aa3dcdf194832d",
            "b424902533824ab99d31e6b5d43d167e",
            "cdd28f9df8004317895e517c785b0348",
            "c8b0fe33be4642dc9c65ea0d0f91eeb4",
            "b89dfa78083a4647877d0de13a532d1e",
            "d5761fe99dcd45ba90c33e9c2529340a",
            "3da3ee468d7e4c82a9b88a2fdda09e8f",
            "8a266b26343f45aaaa1053b49db4596e",
            "f7095ff1ce884c5db959f9dc9519fcca",
            "06853699065e4cc89ec465f80084f315",
            "fd213c5e8b8043f7b4f57ece0233647c",
            "e3d3a952d19a4811b08df8af594731e9",
            "e868b1fc23034899b91860181f196b77",
            "c6d3884320d84edd8564bd12ad7e41ff",
            "8ac5459ee777449486f4ff2887dfca5b",
            "d2c035e460d44b71925f6098222d3da3",
            "bf86245460cc4319923141571afc3f26",
            "d75ca3ce261044448ede0a991ec6c87e",
            "79da1e1300654419a2a741705b8d3c2b",
            "945cbdf51fd647db9542ed3862624d6b"
          ]
        },
        "outputId": "82f80aa7-59ab-4447-a851-a882dcc4f5ba"
      },
      "outputs": [
        {
          "output_type": "stream",
          "name": "stdout",
          "text": [
            "Downloading http://yann.lecun.com/exdb/mnist/train-images-idx3-ubyte.gz\n",
            "Downloading http://yann.lecun.com/exdb/mnist/train-images-idx3-ubyte.gz to ./data/MNIST/raw/train-images-idx3-ubyte.gz\n"
          ]
        },
        {
          "output_type": "display_data",
          "data": {
            "text/plain": [
              "  0%|          | 0/9912422 [00:00<?, ?it/s]"
            ],
            "application/vnd.jupyter.widget-view+json": {
              "version_major": 2,
              "version_minor": 0,
              "model_id": "e69dedd4148c457d8aab9412f611e58b"
            }
          },
          "metadata": {}
        },
        {
          "output_type": "stream",
          "name": "stdout",
          "text": [
            "Extracting ./data/MNIST/raw/train-images-idx3-ubyte.gz to ./data/MNIST/raw\n",
            "\n",
            "Downloading http://yann.lecun.com/exdb/mnist/train-labels-idx1-ubyte.gz\n",
            "Downloading http://yann.lecun.com/exdb/mnist/train-labels-idx1-ubyte.gz to ./data/MNIST/raw/train-labels-idx1-ubyte.gz\n"
          ]
        },
        {
          "output_type": "display_data",
          "data": {
            "text/plain": [
              "  0%|          | 0/28881 [00:00<?, ?it/s]"
            ],
            "application/vnd.jupyter.widget-view+json": {
              "version_major": 2,
              "version_minor": 0,
              "model_id": "623b1706177b4bcc9bd8b6fd93a7109d"
            }
          },
          "metadata": {}
        },
        {
          "output_type": "stream",
          "name": "stdout",
          "text": [
            "Extracting ./data/MNIST/raw/train-labels-idx1-ubyte.gz to ./data/MNIST/raw\n",
            "\n",
            "Downloading http://yann.lecun.com/exdb/mnist/t10k-images-idx3-ubyte.gz\n",
            "Downloading http://yann.lecun.com/exdb/mnist/t10k-images-idx3-ubyte.gz to ./data/MNIST/raw/t10k-images-idx3-ubyte.gz\n"
          ]
        },
        {
          "output_type": "display_data",
          "data": {
            "text/plain": [
              "  0%|          | 0/1648877 [00:00<?, ?it/s]"
            ],
            "application/vnd.jupyter.widget-view+json": {
              "version_major": 2,
              "version_minor": 0,
              "model_id": "528ed5d663d44e0aa793743dd8d34b80"
            }
          },
          "metadata": {}
        },
        {
          "output_type": "stream",
          "name": "stdout",
          "text": [
            "Extracting ./data/MNIST/raw/t10k-images-idx3-ubyte.gz to ./data/MNIST/raw\n",
            "\n",
            "Downloading http://yann.lecun.com/exdb/mnist/t10k-labels-idx1-ubyte.gz\n",
            "Downloading http://yann.lecun.com/exdb/mnist/t10k-labels-idx1-ubyte.gz to ./data/MNIST/raw/t10k-labels-idx1-ubyte.gz\n"
          ]
        },
        {
          "output_type": "display_data",
          "data": {
            "text/plain": [
              "  0%|          | 0/4542 [00:00<?, ?it/s]"
            ],
            "application/vnd.jupyter.widget-view+json": {
              "version_major": 2,
              "version_minor": 0,
              "model_id": "06853699065e4cc89ec465f80084f315"
            }
          },
          "metadata": {}
        },
        {
          "output_type": "stream",
          "name": "stdout",
          "text": [
            "Extracting ./data/MNIST/raw/t10k-labels-idx1-ubyte.gz to ./data/MNIST/raw\n",
            "\n"
          ]
        }
      ],
      "source": [
        "train_dataset = datasets.MNIST('./data', train=True, download=True,  # Downloads into a directory ../data\n",
        "                               transform=transforms.ToTensor())\n",
        "train_dataset, valid_dataset = torch.utils.data.random_split(train_dataset, \n",
        "                                                             [int(len(train_dataset)*0.8), int(len(train_dataset)*0.2)], \n",
        "                                                             generator=torch.Generator().manual_seed(42))\n",
        "test_dataset = datasets.MNIST('./data', train=False, download=False,  # No need to download again\n",
        "                              transform=transforms.ToTensor())"
      ]
    },
    {
      "cell_type": "markdown",
      "metadata": {
        "id": "dPRWRI-TomP7"
      },
      "source": [
        "The `Dataset` object is an iterable where each element is a tuple of (input `Tensor`, target):"
      ]
    },
    {
      "cell_type": "code",
      "execution_count": null,
      "metadata": {
        "colab": {
          "base_uri": "https://localhost:8080/"
        },
        "id": "4Y1oIfzooiLa",
        "outputId": "b3d42fab-7b92-4ce5-905e-3ac8c106b1dc"
      },
      "outputs": [
        {
          "output_type": "stream",
          "name": "stdout",
          "text": [
            "tensor([[[0.0000, 0.0000, 0.0000, 0.0000, 0.0000, 0.0000, 0.0000, 0.0000,\n",
            "          0.0000, 0.0000, 0.0000, 0.0000, 0.0000, 0.0000, 0.0000, 0.0000,\n",
            "          0.0000, 0.0000, 0.0000, 0.0000, 0.0000, 0.0000, 0.0000, 0.0000,\n",
            "          0.0000, 0.0000, 0.0000, 0.0000],\n",
            "         [0.0000, 0.0000, 0.0000, 0.0000, 0.0000, 0.0000, 0.0000, 0.0000,\n",
            "          0.0000, 0.0000, 0.0000, 0.0000, 0.0000, 0.0000, 0.0000, 0.0000,\n",
            "          0.0000, 0.0000, 0.0000, 0.0000, 0.0000, 0.0000, 0.0000, 0.0000,\n",
            "          0.0000, 0.0000, 0.0000, 0.0000],\n",
            "         [0.0000, 0.0000, 0.0000, 0.0000, 0.0000, 0.0000, 0.0000, 0.0000,\n",
            "          0.0000, 0.0000, 0.0000, 0.0000, 0.0000, 0.0000, 0.0000, 0.0000,\n",
            "          0.0000, 0.0000, 0.0000, 0.0000, 0.0000, 0.0000, 0.0000, 0.0000,\n",
            "          0.0000, 0.0000, 0.0000, 0.0000],\n",
            "         [0.0000, 0.0000, 0.0000, 0.0000, 0.0000, 0.0000, 0.0000, 0.0000,\n",
            "          0.0000, 0.0000, 0.0000, 0.0000, 0.0000, 0.0000, 0.0000, 0.0000,\n",
            "          0.0000, 0.1098, 0.2627, 0.9490, 0.9961, 1.0000, 0.7725, 0.0000,\n",
            "          0.0000, 0.0000, 0.0000, 0.0000],\n",
            "         [0.0000, 0.0000, 0.0000, 0.0000, 0.0000, 0.0000, 0.0000, 0.0000,\n",
            "          0.0000, 0.0000, 0.0000, 0.0000, 0.0000, 0.0000, 0.0000, 0.0000,\n",
            "          0.4667, 0.7098, 0.9922, 0.9922, 0.9922, 0.9922, 0.7686, 0.0000,\n",
            "          0.0000, 0.0000, 0.0000, 0.0000],\n",
            "         [0.0000, 0.0000, 0.0000, 0.0000, 0.0000, 0.0000, 0.0000, 0.0000,\n",
            "          0.0000, 0.0000, 0.0000, 0.0000, 0.0235, 0.0392, 0.3137, 0.7765,\n",
            "          0.9686, 0.9922, 0.9922, 0.9922, 0.9922, 0.9922, 0.9333, 0.3843,\n",
            "          0.0000, 0.0000, 0.0000, 0.0000],\n",
            "         [0.0000, 0.0000, 0.0000, 0.0000, 0.0000, 0.0000, 0.0000, 0.0000,\n",
            "          0.0000, 0.0000, 0.0000, 0.1020, 0.7098, 0.9922, 0.9922, 0.9922,\n",
            "          0.9922, 0.9922, 0.9922, 0.9922, 0.9922, 0.9922, 0.7686, 0.0000,\n",
            "          0.0000, 0.0000, 0.0000, 0.0000],\n",
            "         [0.0000, 0.0000, 0.0000, 0.0000, 0.0000, 0.0000, 0.0000, 0.0000,\n",
            "          0.0000, 0.0000, 0.4588, 0.7020, 0.9922, 0.9922, 0.9922, 0.9922,\n",
            "          0.9922, 0.9922, 0.9922, 0.9922, 0.9922, 0.9922, 0.3569, 0.0000,\n",
            "          0.0000, 0.0000, 0.0000, 0.0000],\n",
            "         [0.0000, 0.0000, 0.0000, 0.0000, 0.0000, 0.0000, 0.0000, 0.0039,\n",
            "          0.0745, 0.4902, 0.9569, 0.9922, 0.9922, 0.9922, 0.9922, 0.9922,\n",
            "          0.9922, 0.9922, 0.9412, 0.2314, 0.1804, 0.1804, 0.0078, 0.0000,\n",
            "          0.0000, 0.0000, 0.0000, 0.0000],\n",
            "         [0.0000, 0.0000, 0.0000, 0.0000, 0.0000, 0.0000, 0.0000, 0.0392,\n",
            "          0.9922, 0.9922, 0.9922, 0.9922, 0.9922, 0.9922, 0.9922, 0.9922,\n",
            "          0.6902, 0.6588, 0.2196, 0.0000, 0.0000, 0.0000, 0.0000, 0.0000,\n",
            "          0.0000, 0.0000, 0.0000, 0.0000],\n",
            "         [0.0000, 0.0000, 0.0000, 0.0000, 0.0000, 0.0000, 0.0000, 0.0392,\n",
            "          0.9922, 0.9922, 0.9922, 0.9922, 0.9922, 0.9922, 0.7686, 0.4039,\n",
            "          0.0431, 0.0000, 0.0000, 0.0000, 0.0000, 0.0000, 0.0000, 0.0000,\n",
            "          0.0000, 0.0000, 0.0000, 0.0000],\n",
            "         [0.0000, 0.0000, 0.0000, 0.0000, 0.0000, 0.0314, 0.5020, 0.8549,\n",
            "          0.9922, 0.9922, 0.9922, 0.9922, 0.9255, 0.7961, 0.0902, 0.0000,\n",
            "          0.0000, 0.0000, 0.0000, 0.1059, 0.0627, 0.0000, 0.0000, 0.0000,\n",
            "          0.0000, 0.0000, 0.0000, 0.0000],\n",
            "         [0.0000, 0.0000, 0.0000, 0.0000, 0.0000, 0.2627, 0.9922, 0.9922,\n",
            "          0.9922, 0.9922, 0.9922, 0.8667, 0.2510, 0.0431, 0.3725, 0.3725,\n",
            "          0.3725, 0.3725, 0.3725, 0.9490, 0.7137, 0.3725, 0.2902, 0.0000,\n",
            "          0.0000, 0.0000, 0.0000, 0.0000],\n",
            "         [0.0000, 0.0000, 0.0000, 0.0000, 0.0000, 0.2627, 0.9922, 0.9922,\n",
            "          0.9922, 0.9922, 0.9451, 0.2431, 0.3765, 0.6667, 0.9922, 0.9922,\n",
            "          0.9922, 0.9922, 0.9922, 0.9922, 0.9922, 0.9922, 0.9098, 0.3255,\n",
            "          0.0000, 0.0000, 0.0000, 0.0000],\n",
            "         [0.0000, 0.0000, 0.0000, 0.0000, 0.0000, 0.9216, 0.9922, 0.9922,\n",
            "          0.9922, 0.9922, 0.9843, 0.8863, 0.9490, 0.9922, 0.9922, 0.9922,\n",
            "          0.9922, 0.9922, 0.9922, 0.9922, 0.9922, 0.9922, 0.9922, 0.9412,\n",
            "          0.2275, 0.0000, 0.0000, 0.0000],\n",
            "         [0.0000, 0.0000, 0.0000, 0.0000, 0.0000, 0.9961, 0.9922, 0.9922,\n",
            "          0.9922, 0.9922, 0.9922, 0.9922, 0.9922, 0.9922, 0.9922, 0.9922,\n",
            "          0.9922, 0.9922, 0.9922, 0.9922, 0.9922, 0.9922, 0.9922, 0.9922,\n",
            "          0.2549, 0.0000, 0.0000, 0.0000],\n",
            "         [0.0000, 0.0000, 0.0000, 0.0000, 0.0000, 0.9961, 0.9922, 0.9922,\n",
            "          0.9922, 0.9922, 0.9922, 0.9922, 0.9922, 0.9922, 0.9922, 0.9922,\n",
            "          0.9922, 0.9922, 0.9922, 0.9922, 0.9922, 0.9922, 0.9922, 0.9922,\n",
            "          0.2549, 0.0000, 0.0000, 0.0000],\n",
            "         [0.0000, 0.0000, 0.0000, 0.0000, 0.0000, 0.9961, 0.9922, 0.9922,\n",
            "          0.9922, 0.9922, 0.9922, 0.9922, 0.9922, 0.9686, 0.8039, 0.3412,\n",
            "          0.0980, 0.2549, 0.7490, 0.9922, 0.9922, 0.9922, 0.9922, 0.9020,\n",
            "          0.2078, 0.0000, 0.0000, 0.0000],\n",
            "         [0.0000, 0.0000, 0.0000, 0.0000, 0.0000, 0.6667, 0.9922, 0.9922,\n",
            "          0.9922, 0.9922, 0.9922, 0.9922, 0.9922, 0.9294, 0.4471, 0.4471,\n",
            "          0.5255, 0.9922, 0.9922, 0.9922, 0.9922, 0.9922, 0.9922, 0.5098,\n",
            "          0.0000, 0.0000, 0.0000, 0.0000],\n",
            "         [0.0000, 0.0000, 0.0000, 0.0000, 0.0000, 0.2627, 0.9922, 0.9922,\n",
            "          0.9922, 0.9922, 0.9922, 0.9922, 0.9922, 0.9922, 0.9922, 0.9922,\n",
            "          0.9922, 0.9922, 0.9922, 0.9922, 0.9922, 0.9922, 0.8314, 0.1490,\n",
            "          0.0000, 0.0000, 0.0000, 0.0000],\n",
            "         [0.0000, 0.0000, 0.0000, 0.0000, 0.0000, 0.2039, 0.8863, 0.9922,\n",
            "          0.9922, 0.9922, 0.9922, 0.9922, 0.9922, 0.9922, 0.9922, 0.9922,\n",
            "          0.9922, 0.9922, 0.9922, 0.9922, 0.8902, 0.2471, 0.0235, 0.0000,\n",
            "          0.0000, 0.0000, 0.0000, 0.0000],\n",
            "         [0.0000, 0.0000, 0.0000, 0.0000, 0.0000, 0.0000, 0.2706, 0.8863,\n",
            "          0.9922, 0.9922, 0.9922, 0.9922, 0.9922, 0.9922, 0.9922, 0.9922,\n",
            "          0.9922, 0.9922, 0.9922, 0.5412, 0.2824, 0.0000, 0.0000, 0.0000,\n",
            "          0.0000, 0.0000, 0.0000, 0.0000],\n",
            "         [0.0000, 0.0000, 0.0000, 0.0000, 0.0000, 0.0000, 0.0000, 0.2275,\n",
            "          0.9922, 0.9922, 0.9922, 0.9922, 0.9922, 0.9922, 0.9922, 0.9922,\n",
            "          0.8784, 0.2549, 0.2549, 0.0196, 0.0000, 0.0000, 0.0000, 0.0000,\n",
            "          0.0000, 0.0000, 0.0000, 0.0000],\n",
            "         [0.0000, 0.0000, 0.0000, 0.0000, 0.0000, 0.0000, 0.0000, 0.0000,\n",
            "          0.0000, 0.0000, 0.0000, 0.0000, 0.0000, 0.0000, 0.0000, 0.0000,\n",
            "          0.0000, 0.0000, 0.0000, 0.0000, 0.0000, 0.0000, 0.0000, 0.0000,\n",
            "          0.0000, 0.0000, 0.0000, 0.0000],\n",
            "         [0.0000, 0.0000, 0.0000, 0.0000, 0.0000, 0.0000, 0.0000, 0.0000,\n",
            "          0.0000, 0.0000, 0.0000, 0.0000, 0.0000, 0.0000, 0.0000, 0.0000,\n",
            "          0.0000, 0.0000, 0.0000, 0.0000, 0.0000, 0.0000, 0.0000, 0.0000,\n",
            "          0.0000, 0.0000, 0.0000, 0.0000],\n",
            "         [0.0000, 0.0000, 0.0000, 0.0000, 0.0000, 0.0000, 0.0000, 0.0000,\n",
            "          0.0000, 0.0000, 0.0000, 0.0000, 0.0000, 0.0000, 0.0000, 0.0000,\n",
            "          0.0000, 0.0000, 0.0000, 0.0000, 0.0000, 0.0000, 0.0000, 0.0000,\n",
            "          0.0000, 0.0000, 0.0000, 0.0000],\n",
            "         [0.0000, 0.0000, 0.0000, 0.0000, 0.0000, 0.0000, 0.0000, 0.0000,\n",
            "          0.0000, 0.0000, 0.0000, 0.0000, 0.0000, 0.0000, 0.0000, 0.0000,\n",
            "          0.0000, 0.0000, 0.0000, 0.0000, 0.0000, 0.0000, 0.0000, 0.0000,\n",
            "          0.0000, 0.0000, 0.0000, 0.0000],\n",
            "         [0.0000, 0.0000, 0.0000, 0.0000, 0.0000, 0.0000, 0.0000, 0.0000,\n",
            "          0.0000, 0.0000, 0.0000, 0.0000, 0.0000, 0.0000, 0.0000, 0.0000,\n",
            "          0.0000, 0.0000, 0.0000, 0.0000, 0.0000, 0.0000, 0.0000, 0.0000,\n",
            "          0.0000, 0.0000, 0.0000, 0.0000]]])\n"
          ]
        }
      ],
      "source": [
        "print(train_dataset[0][0])"
      ]
    },
    {
      "cell_type": "code",
      "execution_count": null,
      "metadata": {
        "colab": {
          "base_uri": "https://localhost:8080/"
        },
        "id": "ztGWC6ZiO4XQ",
        "outputId": "904ae810-4d47-4ddb-849c-5e21ad524b87"
      },
      "outputs": [
        {
          "output_type": "execute_result",
          "data": {
            "text/plain": [
              "int"
            ]
          },
          "metadata": {},
          "execution_count": 4
        }
      ],
      "source": [
        "type(train_dataset[0][1])"
      ]
    },
    {
      "cell_type": "markdown",
      "metadata": {
        "id": "ocBV6KHTP-Sf"
      },
      "source": [
        "2a) Structure of the dataset"
      ]
    },
    {
      "cell_type": "code",
      "execution_count": null,
      "metadata": {
        "colab": {
          "base_uri": "https://localhost:8080/"
        },
        "id": "bfabowL8PaRn",
        "outputId": "6e7e021e-f816-4582-a4ce-13ca986b5a9b"
      },
      "outputs": [
        {
          "output_type": "stream",
          "name": "stdout",
          "text": [
            "torch.Size([28, 28])\n"
          ]
        }
      ],
      "source": [
        "print(train_dataset[0][0][0].shape)"
      ]
    },
    {
      "cell_type": "code",
      "execution_count": null,
      "metadata": {
        "colab": {
          "base_uri": "https://localhost:8080/"
        },
        "id": "7i6WkCFzSq1F",
        "outputId": "5cbbd2bb-c92d-4356-8e3a-b0c1e20525ac"
      },
      "outputs": [
        {
          "output_type": "stream",
          "name": "stdout",
          "text": [
            "784\n"
          ]
        }
      ],
      "source": [
        "print(28*28)"
      ]
    },
    {
      "cell_type": "markdown",
      "metadata": {
        "id": "dxPA8tJ5QKpn"
      },
      "source": [
        "The height and width of the images are 28 by 28. There is one channel per image. The values in the first array index represent the sample point as a tuple. The second index represent the tensor including the training data, the third value in the index represent the actual training data"
      ]
    },
    {
      "cell_type": "code",
      "execution_count": null,
      "metadata": {
        "colab": {
          "base_uri": "https://localhost:8080/"
        },
        "id": "EStjnxHsPwWk",
        "outputId": "387e43ba-6208-4ed6-80f8-c7348b51cffc"
      },
      "outputs": [
        {
          "output_type": "stream",
          "name": "stdout",
          "text": [
            "48000\n"
          ]
        }
      ],
      "source": [
        "print(len(train_dataset))"
      ]
    },
    {
      "cell_type": "code",
      "execution_count": null,
      "metadata": {
        "colab": {
          "base_uri": "https://localhost:8080/"
        },
        "id": "BrMojrBnRAXo",
        "outputId": "52a87522-e0d9-457d-aad6-318554ffe33b"
      },
      "outputs": [
        {
          "output_type": "stream",
          "name": "stdout",
          "text": [
            "12000\n"
          ]
        }
      ],
      "source": [
        "print(len(valid_dataset))"
      ]
    },
    {
      "cell_type": "markdown",
      "metadata": {
        "id": "S3w4FcgjQ7tU"
      },
      "source": [
        "There are 48000 images in the training set, 12000 images in the testing set."
      ]
    },
    {
      "cell_type": "markdown",
      "metadata": {
        "id": "q8Gf22fNovo_"
      },
      "source": [
        "We can convert images to numpy arrays and plot them with matplotlib:"
      ]
    },
    {
      "cell_type": "code",
      "execution_count": null,
      "metadata": {
        "colab": {
          "base_uri": "https://localhost:8080/",
          "height": 283
        },
        "id": "l7RZ_f05oohA",
        "outputId": "a3a40b9f-2a62-466c-97fa-5ff7274c9017"
      },
      "outputs": [
        {
          "output_type": "execute_result",
          "data": {
            "text/plain": [
              "<matplotlib.image.AxesImage at 0x7efcaf083a90>"
            ]
          },
          "metadata": {},
          "execution_count": 9
        },
        {
          "output_type": "display_data",
          "data": {
            "text/plain": [
              "<Figure size 432x288 with 1 Axes>"
            ],
            "image/png": "[encoded data removed]"
          },
          "metadata": {
            "needs_background": "light"
          }
        }
      ],
      "source": [
        "plt.imshow(train_dataset[0][0][0].numpy(), cmap='gray')"
      ]
    },
    {
      "cell_type": "markdown",
      "metadata": {
        "id": "hmKx25zZo7C6"
      },
      "source": [
        "## Example linear model\n",
        "Let's instantiate a linear model and take a look at the layers."
      ]
    },
    {
      "cell_type": "code",
      "execution_count": null,
      "metadata": {
        "colab": {
          "base_uri": "https://localhost:8080/"
        },
        "id": "kPskp-x3oxNN",
        "outputId": "374f1946-9082-4655-a50c-1eb105b93ce8"
      },
      "outputs": [
        {
          "output_type": "stream",
          "name": "stdout",
          "text": [
            "Sequential(\n",
            "  (0): Flatten(start_dim=1, end_dim=-1)\n",
            "  (1): Linear(in_features=784, out_features=10, bias=True)\n",
            ")\n"
          ]
        }
      ],
      "source": [
        "model = nn.Sequential(\n",
        "    # For fully-connected networks, we don't use the 2D structure of an image at all. Our network\n",
        "    # takes in a flat vector of the pixel values as input.\n",
        "    nn.Flatten(),  \n",
        "    nn.Linear(784, 10),\n",
        ")\n",
        "print(model)"
      ]
    },
    {
      "cell_type": "markdown",
      "metadata": {
        "id": "2mTmn0zWGBU2"
      },
      "source": [
        "## Training and validation\n",
        "\n",
        "Now let's try to train the linear model as an example."
      ]
    },
    {
      "cell_type": "code",
      "execution_count": null,
      "metadata": {
        "id": "ZtFhoE5sGEb9"
      },
      "outputs": [],
      "source": [
        "def run_training_loop(model, batch_size=32, n_epochs=10, lr=1e-3):\n",
        "\n",
        "    # We could write our training procedure manually and directly index the `Dataset` objects,\n",
        "    # but the `DataLoader` object conveniently creates an iterable for automatically creating random minibatches:\n",
        "    train_loader = torch.utils.data.DataLoader(train_dataset, batch_size=batch_size, shuffle=True)\n",
        "    valid_loader = torch.utils.data.DataLoader(valid_dataset, batch_size=batch_size, shuffle=True)\n",
        "\n",
        "    # Choose Adam as the optimizer\n",
        "    optimizer = torch.optim.Adam(model.parameters(), lr=lr)\n",
        "\n",
        "    # Use the cross entropy loss function\n",
        "    loss_fn = nn.CrossEntropyLoss()\n",
        "\n",
        "    # store metrics\n",
        "    train_loss_history = np.zeros([n_epochs, 1])\n",
        "    valid_accuracy_history = np.zeros([n_epochs, 1])\n",
        "    valid_loss_history = np.zeros([n_epochs, 1])\n",
        "\n",
        "    for epoch in range(n_epochs):\n",
        "\n",
        "        # Some layers, such as Dropout, behave differently during training\n",
        "        model.train()\n",
        "\n",
        "        train_loss = 0\n",
        "        for batch_idx, (data, target) in enumerate(train_loader):\n",
        "\n",
        "            # Erase accumulated gradients\n",
        "            optimizer.zero_grad()\n",
        "\n",
        "            # Forward pass\n",
        "            output = model(data)\n",
        "\n",
        "            # Calculate loss\n",
        "            loss = loss_fn(output, target)\n",
        "            train_loss += loss.item()\n",
        "\n",
        "            # Backward pass\n",
        "            loss.backward()\n",
        "            \n",
        "            # Weight update\n",
        "            optimizer.step()\n",
        "\n",
        "        train_loss_history[epoch] = train_loss / len(train_loader.dataset)\n",
        "\n",
        "        # Track loss each epoch\n",
        "        print('Train Epoch: %d  Average loss: %.4f' %\n",
        "              (epoch + 1,  train_loss_history[epoch]))\n",
        "\n",
        "        # Putting layers like Dropout into evaluation mode\n",
        "        model.eval()\n",
        "\n",
        "        valid_loss = 0\n",
        "        correct = 0\n",
        "\n",
        "        # Turning off automatic differentiation\n",
        "        with torch.no_grad():\n",
        "            for data, target in valid_loader:\n",
        "                output = model(data)\n",
        "                valid_loss += loss_fn(output, target).item()  # Sum up batch loss\n",
        "                pred = output.argmax(dim=1, keepdim=True)  # Get the index of the max class score\n",
        "                correct += pred.eq(target.view_as(pred)).sum().item()\n",
        "\n",
        "        valid_loss_history[epoch] = valid_loss / len(valid_loader.dataset)\n",
        "        valid_accuracy_history[epoch] = correct / len(valid_loader.dataset)\n",
        "\n",
        "        print('Valid set: Average loss: %.4f, Accuracy: %d/%d (%.4f)\\n' %\n",
        "              (valid_loss_history[epoch], correct, len(valid_loader.dataset),\n",
        "              100. * valid_accuracy_history[epoch]))\n",
        "    \n",
        "    return model, train_loss_history, valid_loss_history, valid_accuracy_history"
      ]
    },
    {
      "cell_type": "code",
      "execution_count": null,
      "metadata": {
        "colab": {
          "base_uri": "https://localhost:8080/",
          "height": 808
        },
        "id": "evRxrDb-VJFk",
        "outputId": "135760e5-47f1-470a-ae7e-c9bac0ad78c2"
      },
      "outputs": [
        {
          "output_type": "stream",
          "name": "stdout",
          "text": [
            "Train Epoch: 1  Average loss: 0.0155\n",
            "Valid set: Average loss: 0.0109, Accuracy: 10844/12000 (90.3667)\n",
            "\n",
            "Train Epoch: 2  Average loss: 0.0097\n",
            "Valid set: Average loss: 0.0100, Accuracy: 10905/12000 (90.8750)\n",
            "\n",
            "Train Epoch: 3  Average loss: 0.0089\n",
            "Valid set: Average loss: 0.0095, Accuracy: 10960/12000 (91.3333)\n",
            "\n",
            "Train Epoch: 4  Average loss: 0.0085\n",
            "Valid set: Average loss: 0.0093, Accuracy: 11017/12000 (91.8083)\n",
            "\n",
            "Train Epoch: 5  Average loss: 0.0083\n",
            "Valid set: Average loss: 0.0092, Accuracy: 11016/12000 (91.8000)\n",
            "\n",
            "Train Epoch: 6  Average loss: 0.0081\n",
            "Valid set: Average loss: 0.0092, Accuracy: 11021/12000 (91.8417)\n",
            "\n",
            "Train Epoch: 7  Average loss: 0.0080\n",
            "Valid set: Average loss: 0.0092, Accuracy: 11014/12000 (91.7833)\n",
            "\n",
            "Train Epoch: 8  Average loss: 0.0079\n",
            "Valid set: Average loss: 0.0092, Accuracy: 11026/12000 (91.8833)\n",
            "\n",
            "Train Epoch: 9  Average loss: 0.0078\n",
            "Valid set: Average loss: 0.0094, Accuracy: 10983/12000 (91.5250)\n",
            "\n",
            "Train Epoch: 10  Average loss: 0.0077\n",
            "Valid set: Average loss: 0.0092, Accuracy: 11046/12000 (92.0500)\n",
            "\n"
          ]
        },
        {
          "output_type": "display_data",
          "data": {
            "text/plain": [
              "<Figure size 432x288 with 1 Axes>"
            ],
            "image/png": "[encoded data removed]"
          },
          "metadata": {
            "needs_background": "light"
          }
        }
      ],
      "source": [
        "trained_model, train_loss_history, valid_loss_history, valid_accuracy_history = run_training_loop(model)\n",
        "plt.plot(train_loss_history, label='train')\n",
        "plt.plot(valid_loss_history, label='valid')\n",
        "plt.legend()\n",
        "plt.show()"
      ]
    },
    {
      "cell_type": "markdown",
      "metadata": {
        "id": "Uk38yQyirQEW"
      },
      "source": [
        "## Testing\n",
        "After selecting hyperparameters from the validation set, evaluate on the held-out test set (distinct from the validation set)."
      ]
    },
    {
      "cell_type": "code",
      "execution_count": null,
      "metadata": {
        "id": "E9rwgEpNGUyJ"
      },
      "outputs": [],
      "source": [
        "def test_performance(model, batch_size=32):\n",
        "    test_loader = torch.utils.data.DataLoader(test_dataset, batch_size=batch_size, shuffle=True) \n",
        "\n",
        "    # Putting layers like Dropout into evaluation mode\n",
        "    model.eval()\n",
        "    # Use the cross entropy loss function\n",
        "    loss_fn = nn.CrossEntropyLoss()\n",
        "\n",
        "    test_loss = 0\n",
        "    correct = 0\n",
        "\n",
        "    # Turning off automatic differentiation\n",
        "    with torch.no_grad():\n",
        "        for data, target in test_loader:\n",
        "            output = model(data)\n",
        "            test_loss += loss_fn(output, target).item()  # Sum up batch loss\n",
        "            pred = output.argmax(dim=1, keepdim=True)  # Get the index of the max class score\n",
        "            correct += pred.eq(target.view_as(pred)).sum().item()\n",
        "\n",
        "    test_loss /= len(test_loader.dataset)\n",
        "    test_accuracy = correct / len(test_loader.dataset)\n",
        "\n",
        "    print('Test set: Average loss: %.4f, Accuracy: %d/%d (%.4f)' %\n",
        "          (test_loss, correct, len(test_loader.dataset),\n",
        "          100. * test_accuracy))\n",
        "    return test_loss, test_accuracy"
      ]
    },
    {
      "cell_type": "code",
      "execution_count": null,
      "metadata": {
        "colab": {
          "base_uri": "https://localhost:8080/"
        },
        "id": "QWN_AItsGWPd",
        "outputId": "b4912978-2f79-4d27-ffed-8641efebe271"
      },
      "outputs": [
        {
          "output_type": "stream",
          "name": "stdout",
          "text": [
            "Test set: Average loss: 0.0084, Accuracy: 9258/10000 (92.5800)\n"
          ]
        },
        {
          "output_type": "execute_result",
          "data": {
            "text/plain": [
              "(0.008356586967408658, 0.9258)"
            ]
          },
          "metadata": {},
          "execution_count": 14
        }
      ],
      "source": [
        "test_performance(model)"
      ]
    },
    {
      "cell_type": "markdown",
      "metadata": {
        "id": "V9-FidZsGd__"
      },
      "source": [
        "Not bad! Even the linear model gets above 92% accuracy."
      ]
    },
    {
      "cell_type": "markdown",
      "metadata": {
        "id": "jlSez9XVGnc9"
      },
      "source": [
        "## Visualizing predictions\n",
        "\n",
        "We can visualize and inspect the model predictions. Here is an example of how to visualize the wrongly classified cases among the first 20 validation examples."
      ]
    },
    {
      "cell_type": "code",
      "execution_count": null,
      "metadata": {
        "colab": {
          "base_uri": "https://localhost:8080/",
          "height": 545
        },
        "id": "OX6auNyhGqTZ",
        "outputId": "b6799fc8-8050-49ed-a9bf-2e0b1c95b54e"
      },
      "outputs": [
        {
          "output_type": "display_data",
          "data": {
            "text/plain": [
              "<Figure size 432x288 with 1 Axes>"
            ],
            "image/png": "[encoded data removed]"
          },
          "metadata": {
            "needs_background": "light"
          }
        },
        {
          "output_type": "display_data",
          "data": {
            "text/plain": [
              "<Figure size 432x288 with 1 Axes>"
            ],
            "image/png": "[encoded data removed]"
          },
          "metadata": {
            "needs_background": "light"
          }
        }
      ],
      "source": [
        "# Putting layers like Dropout into evaluation mode\n",
        "model.eval()\n",
        "\n",
        "# Turning off automatic differentiation\n",
        "with torch.no_grad():\n",
        "      for i in range(20):\n",
        "        data, target = valid_dataset[i]\n",
        "        output = model(data)\n",
        "        pred = output.argmax(dim=1, keepdim=True)  # Get the index of the max class score\n",
        "        if pred.item() != target:\n",
        "            plt.imshow(data[0].numpy(), cmap='gray')\n",
        "            plt.title(f'Predicted: {pred.item()}')\n",
        "            plt.show()"
      ]
    },
    {
      "cell_type": "markdown",
      "metadata": {
        "id": "Gp2rPfwVGvGG"
      },
      "source": [
        "# Your code: 2 (b)"
      ]
    },
    {
      "cell_type": "code",
      "execution_count": null,
      "metadata": {
        "id": "TaH2mCHeGxQO"
      },
      "outputs": [],
      "source": [
        "model = nn.Sequential(\n",
        "    # In problem 2, we don't use the 2D structure of an image at all. Our network\n",
        "    # takes in a flat vector of the pixel values as input.\n",
        "    nn.Flatten(),  \n",
        "    nn.Linear(784,100),\n",
        "    nn.ReLU(),\n",
        "    nn.Linear(100,100),\n",
        "    nn.ReLU(),\n",
        "    nn.Linear(100,10),\n",
        "    # TODO\n",
        ")\n"
      ]
    },
    {
      "cell_type": "code",
      "execution_count": null,
      "metadata": {
        "colab": {
          "base_uri": "https://localhost:8080/",
          "height": 845
        },
        "id": "R3qabsPEG0bx",
        "outputId": "cae07af6-52bd-4eb5-8f6b-7551325b6a77"
      },
      "outputs": [
        {
          "output_type": "stream",
          "name": "stdout",
          "text": [
            "Train Epoch: 1  Average loss: 0.0097\n",
            "Valid set: Average loss: 0.0051, Accuracy: 11410/12000 (95.0833)\n",
            "\n",
            "Train Epoch: 2  Average loss: 0.0040\n",
            "Valid set: Average loss: 0.0039, Accuracy: 11554/12000 (96.2833)\n",
            "\n",
            "Train Epoch: 3  Average loss: 0.0028\n",
            "Valid set: Average loss: 0.0037, Accuracy: 11564/12000 (96.3667)\n",
            "\n",
            "Train Epoch: 4  Average loss: 0.0021\n",
            "Valid set: Average loss: 0.0034, Accuracy: 11612/12000 (96.7667)\n",
            "\n",
            "Train Epoch: 5  Average loss: 0.0017\n",
            "Valid set: Average loss: 0.0031, Accuracy: 11641/12000 (97.0083)\n",
            "\n",
            "Train Epoch: 6  Average loss: 0.0014\n",
            "Valid set: Average loss: 0.0030, Accuracy: 11666/12000 (97.2167)\n",
            "\n",
            "Train Epoch: 7  Average loss: 0.0011\n",
            "Valid set: Average loss: 0.0029, Accuracy: 11674/12000 (97.2833)\n",
            "\n",
            "Train Epoch: 8  Average loss: 0.0009\n",
            "Valid set: Average loss: 0.0035, Accuracy: 11657/12000 (97.1417)\n",
            "\n",
            "Train Epoch: 9  Average loss: 0.0008\n",
            "Valid set: Average loss: 0.0032, Accuracy: 11684/12000 (97.3667)\n",
            "\n",
            "Train Epoch: 10  Average loss: 0.0007\n",
            "Valid set: Average loss: 0.0032, Accuracy: 11700/12000 (97.5000)\n",
            "\n"
          ]
        },
        {
          "output_type": "display_data",
          "data": {
            "text/plain": [
              "<Figure size 432x288 with 1 Axes>"
            ],
            "image/png": "[encoded data removed]"
          },
          "metadata": {
            "needs_background": "light"
          }
        },
        {
          "output_type": "stream",
          "name": "stdout",
          "text": [
            "Test set: Average loss: 0.0029, Accuracy: 9759/10000 (97.5900)\n"
          ]
        },
        {
          "output_type": "execute_result",
          "data": {
            "text/plain": [
              "(0.0029353247437373282, 0.9759)"
            ]
          },
          "metadata": {},
          "execution_count": 17
        }
      ],
      "source": [
        "trained_model, train_loss_history, valid_loss_history, valid_accuracy_history = run_training_loop(model)\n",
        "plt.plot(train_loss_history, label='train')\n",
        "plt.plot(valid_loss_history, label='valid')\n",
        "plt.legend()\n",
        "plt.show()\n",
        "\n",
        "test_performance(model)"
      ]
    },
    {
      "cell_type": "markdown",
      "metadata": {
        "id": "wdELSjObWGJ6"
      },
      "source": [
        "I implemented a feedforward model with 2 hidden layers each with 100 units and each with bias. With ReLU activation for hidden layers and no softmax activation for the final layer. No regularization is used as there is no overfitting."
      ]
    },
    {
      "cell_type": "markdown",
      "metadata": {
        "id": "HCR12-oHHFHI"
      },
      "source": [
        "# Example code for convolutional neural networks"
      ]
    },
    {
      "cell_type": "code",
      "execution_count": null,
      "metadata": {
        "colab": {
          "base_uri": "https://localhost:8080/"
        },
        "id": "pRoFt50GHP_z",
        "outputId": "84978848-dd74-46dd-82ef-e64bd73e18f5"
      },
      "outputs": [
        {
          "output_type": "stream",
          "name": "stdout",
          "text": [
            "torch.Size([8, 1, 8, 8])\n",
            "torch.Size([8])\n",
            "torch.Size([64, 32])\n",
            "torch.Size([64])\n",
            "torch.Size([10, 64])\n",
            "torch.Size([10])\n",
            "total params: 3282\n"
          ]
        }
      ],
      "source": [
        "# sample model\n",
        "import torch.nn as nn\n",
        "\n",
        "model = nn.Sequential(\n",
        "    nn.Conv2d(1, 8, kernel_size=(8,8)),\n",
        "    nn.ReLU(),\n",
        "    nn.MaxPool2d(8),\n",
        "    nn.Dropout(p=0.5),\n",
        "    \n",
        "    nn.Flatten(),\n",
        "    nn.Linear(32, 64),\n",
        "    nn.ReLU(),\n",
        "    nn.Linear(64, 10)\n",
        "    # PyTorch implementation of cross-entropy loss includes softmax layer\n",
        ")\n",
        "\n",
        "# take a look at the shape of the weights for each layer\n",
        "for p in model.parameters():\n",
        "    print(p.data.shape)\n",
        "\n",
        "\n",
        "# our model has some # of parameters:\n",
        "count = 0\n",
        "for p in model.parameters():\n",
        "    n_params = np.prod(list(p.data.shape)).item()\n",
        "    count += n_params\n",
        "print(f'total params: {count}')"
      ]
    },
    {
      "cell_type": "code",
      "execution_count": null,
      "metadata": {
        "colab": {
          "base_uri": "https://localhost:8080/",
          "height": 844
        },
        "id": "aRoEpG1J4cRV",
        "outputId": "2f0b4360-0681-4cd3-a5e9-79a89a99a4d9"
      },
      "outputs": [
        {
          "output_type": "stream",
          "name": "stdout",
          "text": [
            "Train Epoch: 1  Average loss: 0.0370\n",
            "Valid set: Average loss: 0.0161, Accuracy: 10475/12000 (87.2917)\n",
            "\n",
            "Train Epoch: 2  Average loss: 0.0259\n",
            "Valid set: Average loss: 0.0133, Accuracy: 10701/12000 (89.1750)\n",
            "\n",
            "Train Epoch: 3  Average loss: 0.0233\n",
            "Valid set: Average loss: 0.0108, Accuracy: 10935/12000 (91.1250)\n",
            "\n",
            "Train Epoch: 4  Average loss: 0.0220\n",
            "Valid set: Average loss: 0.0099, Accuracy: 11011/12000 (91.7583)\n",
            "\n",
            "Train Epoch: 5  Average loss: 0.0210\n",
            "Valid set: Average loss: 0.0092, Accuracy: 11003/12000 (91.6917)\n",
            "\n",
            "Train Epoch: 6  Average loss: 0.0204\n",
            "Valid set: Average loss: 0.0092, Accuracy: 11093/12000 (92.4417)\n",
            "\n",
            "Train Epoch: 7  Average loss: 0.0200\n",
            "Valid set: Average loss: 0.0093, Accuracy: 11077/12000 (92.3083)\n",
            "\n",
            "Train Epoch: 8  Average loss: 0.0195\n",
            "Valid set: Average loss: 0.0086, Accuracy: 11083/12000 (92.3583)\n",
            "\n",
            "Train Epoch: 9  Average loss: 0.0190\n",
            "Valid set: Average loss: 0.0084, Accuracy: 11116/12000 (92.6333)\n",
            "\n",
            "Train Epoch: 10  Average loss: 0.0186\n",
            "Valid set: Average loss: 0.0084, Accuracy: 11121/12000 (92.6750)\n",
            "\n"
          ]
        },
        {
          "output_type": "display_data",
          "data": {
            "text/plain": [
              "<Figure size 432x288 with 1 Axes>"
            ],
            "image/png": "[encoded data removed]"
          },
          "metadata": {
            "needs_background": "light"
          }
        },
        {
          "output_type": "stream",
          "name": "stdout",
          "text": [
            "Test set: Average loss: 0.0076, Accuracy: 9385/10000 (93.8500)\n"
          ]
        },
        {
          "output_type": "execute_result",
          "data": {
            "text/plain": [
              "(0.0075802268877625464, 0.9385)"
            ]
          },
          "metadata": {},
          "execution_count": 19
        }
      ],
      "source": [
        "trained_model, train_loss_history, valid_loss_history, valid_accuracy_history = run_training_loop(model)\n",
        "plt.plot(train_loss_history, label='train')\n",
        "plt.plot(valid_loss_history, label='valid')\n",
        "plt.legend()\n",
        "plt.show()\n",
        "\n",
        "test_performance(model)"
      ]
    },
    {
      "cell_type": "markdown",
      "metadata": {
        "id": "OHI16r2D5DoJ"
      },
      "source": [
        "## Your code: 2 (c)"
      ]
    },
    {
      "cell_type": "code",
      "execution_count": null,
      "metadata": {
        "colab": {
          "base_uri": "https://localhost:8080/"
        },
        "id": "ILTGTFff5Bh6",
        "outputId": "28a0549d-3e82-4a20-b4c9-d1ed72374f20"
      },
      "outputs": [
        {
          "output_type": "stream",
          "name": "stdout",
          "text": [
            "total params: 42926\n"
          ]
        }
      ],
      "source": [
        "from torch.nn.modules.activation import Softmax\n",
        "from torch.nn.modules.flatten import Flatten\n",
        "from torch.nn.modules.batchnorm import BatchNorm2d\n",
        "model = nn.Sequential(\n",
        "    # TODO\n",
        "    nn.Conv2d(1,32, kernel_size = (6,6), stride = 2, padding=(3,3)),\n",
        "    nn.BatchNorm2d(32),\n",
        "    nn.ReLU(),\n",
        "    nn.MaxPool2d(kernel_size = 2, padding=(1,0)),\n",
        "\n",
        "    nn.Conv2d(32,44, kernel_size = (5,5)),\n",
        "    nn.BatchNorm2d(44),\n",
        "    nn.ReLU(),\n",
        "    nn.MaxPool2d(kernel_size = 2),\n",
        "\n",
        "    nn.Flatten(),\n",
        "    nn.Linear(88, 64),\n",
        "    nn.ReLU(),\n",
        "    nn.Dropout(0.5),\n",
        "    nn.Linear(64, 10),\n",
        "    # nn.Softmax()\n",
        ")\n",
        "\n",
        "# make sure the # of parameters is under 50,000\n",
        "count = 0\n",
        "for p in model.parameters():\n",
        "    n_params = np.prod(list(p.data.shape)).item()\n",
        "    count += n_params\n",
        "print(f'total params: {count}')"
      ]
    },
    {
      "cell_type": "code",
      "execution_count": null,
      "metadata": {
        "id": "j2WNXNZf5KKG",
        "colab": {
          "base_uri": "https://localhost:8080/",
          "height": 844
        },
        "outputId": "afaa4833-e3da-41e6-b94a-5fda723dd27b"
      },
      "outputs": [
        {
          "output_type": "stream",
          "name": "stdout",
          "text": [
            "Train Epoch: 1  Average loss: 0.0078\n",
            "Valid set: Average loss: 0.0023, Accuracy: 11719/12000 (97.6583)\n",
            "\n",
            "Train Epoch: 2  Average loss: 0.0028\n",
            "Valid set: Average loss: 0.0016, Accuracy: 11796/12000 (98.3000)\n",
            "\n",
            "Train Epoch: 3  Average loss: 0.0021\n",
            "Valid set: Average loss: 0.0015, Accuracy: 11829/12000 (98.5750)\n",
            "\n",
            "Train Epoch: 4  Average loss: 0.0018\n",
            "Valid set: Average loss: 0.0014, Accuracy: 11842/12000 (98.6833)\n",
            "\n",
            "Train Epoch: 5  Average loss: 0.0015\n",
            "Valid set: Average loss: 0.0013, Accuracy: 11858/12000 (98.8167)\n",
            "\n",
            "Train Epoch: 6  Average loss: 0.0013\n",
            "Valid set: Average loss: 0.0014, Accuracy: 11857/12000 (98.8083)\n",
            "\n",
            "Train Epoch: 7  Average loss: 0.0011\n",
            "Valid set: Average loss: 0.0014, Accuracy: 11853/12000 (98.7750)\n",
            "\n",
            "Train Epoch: 8  Average loss: 0.0010\n",
            "Valid set: Average loss: 0.0015, Accuracy: 11862/12000 (98.8500)\n",
            "\n",
            "Train Epoch: 9  Average loss: 0.0009\n",
            "Valid set: Average loss: 0.0015, Accuracy: 11858/12000 (98.8167)\n",
            "\n",
            "Train Epoch: 10  Average loss: 0.0008\n",
            "Valid set: Average loss: 0.0015, Accuracy: 11864/12000 (98.8667)\n",
            "\n"
          ]
        },
        {
          "output_type": "display_data",
          "data": {
            "text/plain": [
              "<Figure size 432x288 with 1 Axes>"
            ],
            "image/png": "[encoded data removed]"
          },
          "metadata": {
            "needs_background": "light"
          }
        },
        {
          "output_type": "stream",
          "name": "stdout",
          "text": [
            "Test set: Average loss: 0.0012, Accuracy: 9891/10000 (98.9100)\n"
          ]
        },
        {
          "output_type": "execute_result",
          "data": {
            "text/plain": [
              "(0.0011938044245494211, 0.9891)"
            ]
          },
          "metadata": {},
          "execution_count": 21
        }
      ],
      "source": [
        "trained_model, train_loss_history, valid_loss_history, valid_accuracy_history = run_training_loop(model)\n",
        "plt.plot(train_loss_history, label='train')\n",
        "plt.plot(valid_loss_history, label='valid')\n",
        "plt.legend()\n",
        "plt.show()\n",
        "\n",
        "test_performance(model)"
      ]
    },
    {
      "cell_type": "markdown",
      "metadata": {
        "id": "k3o7rvKOy1Uc"
      },
      "source": [
        "I used 2 convolution layers with strides and max pooling to increase the receptive fields of the final output. I also applied batch norm to regularize the convolution output to make model less sensitive to higher learning rates and initialization. I then implemented a feedforward neural network with one hidden layer and used dropout in the last step as regularization before I get to the final output layer. I tried the model with and without batch normalization and found out that batch normalization significantly improved the accuracy. I also tried adding and deleting softmax as the activation function for the output and I found that deleting softmax gives a better result.  "
      ]
    },
    {
      "cell_type": "markdown",
      "metadata": {
        "id": "oqgPrXHFy3H6"
      },
      "source": [
        "# Problem 3: Vision Transformer"
      ]
    },
    {
      "cell_type": "code",
      "execution_count": null,
      "metadata": {
        "id": "7FhfLUokzTbA",
        "colab": {
          "base_uri": "https://localhost:8080/"
        },
        "outputId": "ae32991a-4d3a-4cc3-b63f-c9a572e55045"
      },
      "outputs": [
        {
          "output_type": "stream",
          "name": "stdout",
          "text": [
            "Looking in indexes: https://pypi.org/simple, https://us-python.pkg.dev/colab-wheels/public/simple/\n",
            "Collecting einops\n",
            "  Downloading einops-0.6.0-py3-none-any.whl (41 kB)\n",
            "\u001b[K     |████████████████████████████████| 41 kB 524 kB/s \n",
            "\u001b[?25hInstalling collected packages: einops\n",
            "Successfully installed einops-0.6.0\n"
          ]
        }
      ],
      "source": [
        "!pip install einops\n",
        "\n",
        "import torch\n",
        "from torch import nn\n",
        "\n",
        "from einops import rearrange, repeat\n",
        "from einops.layers.torch import Rearrange"
      ]
    },
    {
      "cell_type": "markdown",
      "metadata": {
        "id": "m_AgjdU36P9O"
      },
      "source": [
        "## Your code: 3(a)\n",
        "\n",
        "Implement single-head attention."
      ]
    },
    {
      "cell_type": "code",
      "execution_count": null,
      "metadata": {
        "id": "vBgURvzV6Swk"
      },
      "outputs": [],
      "source": [
        "class SingleHeadAttention(nn.Module):\n",
        "    def __init__(self, input_dim, inner_dim, dropout = 0.):\n",
        "        super().__init__()\n",
        "        # TODO\n",
        "        self.q = nn.Linear(input_dim, inner_dim)\n",
        "        self.k = nn.Linear(input_dim, inner_dim)\n",
        "        self.v = nn.Linear(input_dim, inner_dim)\n",
        "        self.dropout = nn.Dropout(p=dropout)\n",
        "        self.softmax = nn.Softmax(dim=-1)\n",
        "        self.d_k = inner_dim\n",
        "\n",
        "    def forward(self, x):\n",
        "        # TODO\n",
        "        Q = self.q(x)\n",
        "        K = self.k(x)\n",
        "        V = self.v(x)\n",
        "\n",
        "        attn_weights = self.softmax(torch.matmul(Q, torch.transpose(K, -2, -1)) / np.sqrt(self.d_k))\n",
        "        out = torch.matmul(attn_weights, V)\n",
        "        \n",
        "        out = self.dropout(out)\n",
        "\n",
        "        return out, attn_weights"
      ]
    },
    {
      "cell_type": "code",
      "execution_count": null,
      "metadata": {
        "id": "V7dNp0n9Nw5z"
      },
      "outputs": [],
      "source": [
        "# model.transformer[5].attn[1].attention_heads[0].attentionmatrix"
      ]
    },
    {
      "cell_type": "markdown",
      "metadata": {
        "id": "XkEQ0JDE6Ttn"
      },
      "source": [
        "Test the following multihead attention implementation that relies on the single-head attention implementation above."
      ]
    },
    {
      "cell_type": "code",
      "execution_count": null,
      "metadata": {
        "id": "DRgiyIAl6X8k"
      },
      "outputs": [],
      "source": [
        "class Attention(nn.Module):\n",
        "    def __init__(self, dim, heads = 8, dim_head = 64, dropout = 0.):\n",
        "        super().__init__()\n",
        "        self.attention_heads = nn.ModuleList([\n",
        "            SingleHeadAttention(dim, dim_head, dropout=dropout)\n",
        "            for _ in range(heads)\n",
        "        ])\n",
        "\n",
        "    def forward(self, x):\n",
        "        outputs = [head(x) for head in self.attention_heads]\n",
        "        out = torch.cat([output[0] for output in outputs], dim=-1)\n",
        "        attn_matrix = torch.stack([output[1] for output in outputs])\n",
        "        return out, attn_matrix"
      ]
    },
    {
      "cell_type": "markdown",
      "metadata": {
        "id": "Kq6c2s5lnGOK"
      },
      "source": [
        "Test code for multihead attention:"
      ]
    },
    {
      "cell_type": "code",
      "execution_count": null,
      "metadata": {
        "colab": {
          "base_uri": "https://localhost:8080/"
        },
        "id": "zuq6jtg_nFew",
        "outputId": "df1ce201-0e4c-4c75-bcbc-fc10161d9318"
      },
      "outputs": [
        {
          "output_type": "stream",
          "name": "stdout",
          "text": [
            "tensor([[[-0.1573,  0.1000, -0.0021,  ..., -0.1420,  0.1038, -0.1748],\n",
            "         [-0.1573,  0.1000, -0.0021,  ..., -0.1420,  0.1038, -0.1748],\n",
            "         [-0.1573,  0.1000, -0.0021,  ..., -0.1420,  0.1038, -0.1748],\n",
            "         [-0.1573,  0.1000, -0.0021,  ..., -0.1420,  0.1038, -0.1748],\n",
            "         [-0.1573,  0.1000, -0.0021,  ..., -0.1420,  0.1038, -0.1748]],\n",
            "\n",
            "        [[-0.1573,  0.1000, -0.0021,  ..., -0.1420,  0.1038, -0.1748],\n",
            "         [-0.1573,  0.1000, -0.0021,  ..., -0.1420,  0.1038, -0.1748],\n",
            "         [-0.1573,  0.1000, -0.0021,  ..., -0.1420,  0.1038, -0.1748],\n",
            "         [-0.1573,  0.1000, -0.0021,  ..., -0.1420,  0.1038, -0.1748],\n",
            "         [-0.1573,  0.1000, -0.0021,  ..., -0.1420,  0.1038, -0.1748]],\n",
            "\n",
            "        [[-0.1573,  0.1000, -0.0021,  ..., -0.1420,  0.1038, -0.1748],\n",
            "         [-0.1573,  0.1000, -0.0021,  ..., -0.1420,  0.1038, -0.1748],\n",
            "         [-0.1573,  0.1000, -0.0021,  ..., -0.1420,  0.1038, -0.1748],\n",
            "         [-0.1573,  0.1000, -0.0021,  ..., -0.1420,  0.1038, -0.1748],\n",
            "         [-0.1573,  0.1000, -0.0021,  ..., -0.1420,  0.1038, -0.1748]],\n",
            "\n",
            "        ...,\n",
            "\n",
            "        [[-0.1573,  0.1000, -0.0021,  ..., -0.1420,  0.1038, -0.1748],\n",
            "         [-0.1573,  0.1000, -0.0021,  ..., -0.1420,  0.1038, -0.1748],\n",
            "         [-0.1573,  0.1000, -0.0021,  ..., -0.1420,  0.1038, -0.1748],\n",
            "         [-0.1573,  0.1000, -0.0021,  ..., -0.1420,  0.1038, -0.1748],\n",
            "         [-0.1573,  0.1000, -0.0021,  ..., -0.1420,  0.1038, -0.1748]],\n",
            "\n",
            "        [[-0.1573,  0.1000, -0.0021,  ..., -0.1420,  0.1038, -0.1748],\n",
            "         [-0.1573,  0.1000, -0.0021,  ..., -0.1420,  0.1038, -0.1748],\n",
            "         [-0.1573,  0.1000, -0.0021,  ..., -0.1420,  0.1038, -0.1748],\n",
            "         [-0.1573,  0.1000, -0.0021,  ..., -0.1420,  0.1038, -0.1748],\n",
            "         [-0.1573,  0.1000, -0.0021,  ..., -0.1420,  0.1038, -0.1748]],\n",
            "\n",
            "        [[-0.1573,  0.1000, -0.0021,  ..., -0.1420,  0.1038, -0.1748],\n",
            "         [-0.1573,  0.1000, -0.0021,  ..., -0.1420,  0.1038, -0.1748],\n",
            "         [-0.1573,  0.1000, -0.0021,  ..., -0.1420,  0.1038, -0.1748],\n",
            "         [-0.1573,  0.1000, -0.0021,  ..., -0.1420,  0.1038, -0.1748],\n",
            "         [-0.1573,  0.1000, -0.0021,  ..., -0.1420,  0.1038, -0.1748]]],\n",
            "       grad_fn=<CatBackward0>)\n"
          ]
        }
      ],
      "source": [
        "T = 5\n",
        "input_dim = 32\n",
        "batch_size = 20\n",
        "\n",
        "heads = 8\n",
        "dim_head = 64\n",
        "\n",
        "test_input = torch.zeros((batch_size, T, input_dim))\n",
        "\n",
        "test_attention_module = Attention(input_dim)\n",
        "test_output, test_attn_matrix = test_attention_module(test_input)\n",
        "\n",
        "print(test_output)\n",
        "assert test_output.size() == (batch_size, T, heads * dim_head), \"Shapes are incorrect\""
      ]
    },
    {
      "cell_type": "markdown",
      "metadata": {
        "id": "h9pbMlS46cgF"
      },
      "source": [
        "## Your code: 3 (b)"
      ]
    },
    {
      "cell_type": "code",
      "execution_count": null,
      "metadata": {
        "id": "zTJOcjl66e2C"
      },
      "outputs": [],
      "source": [
        "class ViTLayer(nn.Module):\n",
        "    def __init__(self, dim, heads, dim_head, mlp_dim, dropout = 0.):\n",
        "        super().__init__()\n",
        "        self.attn = nn.Sequential(\n",
        "            # TODO\n",
        "            nn.LayerNorm(dim),\n",
        "            Attention(dim=dim,heads=heads, dim_head=dim_head, dropout=dropout),\n",
        "        )\n",
        "        self.feedforward = nn.Sequential(\n",
        "            # TODO\n",
        "            nn.LayerNorm(dim),\n",
        "            #A\n",
        "            nn.Linear(dim,mlp_dim),\n",
        "            nn.Dropout(p=dropout),\n",
        "            #Relu\n",
        "            nn.ReLU(),\n",
        "            #B\n",
        "            nn.Linear(mlp_dim,dim),\n",
        "            #dropout\n",
        "            nn.Dropout(p=dropout)\n",
        "        )\n",
        "        self.attn_project = nn.Linear(heads*dim_head,dim)\n",
        "\n",
        "    def forward(self, x):\n",
        "        # TODO\n",
        "        outattn, attn_matrix = self.attn(x)\n",
        "        outattn = self.attn_project(outattn) + x\n",
        "        #apply feedforward\n",
        "        outmlp = self.feedforward(outattn)\n",
        "        out = outattn + outmlp\n",
        "        return out, attn_matrix\n",
        "  "
      ]
    },
    {
      "cell_type": "markdown",
      "metadata": {
        "id": "B18OaSIn6iT8"
      },
      "source": [
        "## ViT code for 3 (c)"
      ]
    },
    {
      "cell_type": "code",
      "execution_count": null,
      "metadata": {
        "id": "jwC4oDBty3tw"
      },
      "outputs": [],
      "source": [
        "class ViT(nn.Module):\n",
        "    def __init__(self, patch_size=7, dim=64, depth=6, heads=8, mlp_dim=128, \n",
        "                 dim_head = 64,\n",
        "                 dropout = 0., emb_dropout = 0.):\n",
        "        super().__init__()\n",
        "\n",
        "        image_height, image_width = 28, 28\n",
        "        num_classes = 10\n",
        "        channels = 1\n",
        "\n",
        "        patch_height = patch_size\n",
        "        patch_width = patch_size\n",
        "\n",
        "        assert image_height % patch_height == 0 and image_width % patch_width == 0, (\n",
        "            'Image dimensions must be divisible by the patch size.')\n",
        "\n",
        "        num_patches = (image_height // patch_height) * (image_width // patch_width)\n",
        "        patch_dim = channels * patch_height * patch_width\n",
        "\n",
        "        self.to_patch_embedding = nn.Sequential(\n",
        "            Rearrange('b c (h p1) (w p2) -> b (h w) (p1 p2 c)', p1 = patch_height, p2 = patch_width),\n",
        "            nn.Linear(patch_dim, dim),\n",
        "        )\n",
        "\n",
        "        self.pos_embedding = nn.Parameter(torch.randn(1, num_patches + 1, dim))\n",
        "        self.cls_token = nn.Parameter(torch.randn(1, 1, dim))\n",
        "        self.emb_dropout = nn.Dropout(emb_dropout)\n",
        "\n",
        "        self.transformer = nn.Sequential(*nn.ModuleList([\n",
        "            ViTLayer(dim, heads, dim_head, mlp_dim, dropout)\n",
        "            for _ in range(depth)                       \n",
        "        ]))\n",
        "\n",
        "        self.mlp_head = nn.Sequential(\n",
        "            nn.LayerNorm(dim),\n",
        "            nn.Linear(dim, num_classes)\n",
        "        )\n",
        "\n",
        "    def forward(self, img, return_attn_matrix = False):\n",
        "        x = self.to_patch_embedding(img)\n",
        "        b, n, _ = x.shape\n",
        "\n",
        "        cls_tokens = repeat(self.cls_token, '() n d -> b n d', b = b)\n",
        "        x = torch.cat((cls_tokens, x), dim=1)\n",
        "        x += self.pos_embedding[:, :(n + 1)]\n",
        "        x = self.emb_dropout(x)\n",
        "        for layer in self.transformer:\n",
        "          x, attn_matrix = layer(x)\n",
        "\n",
        "        x = x[:, 0]\n",
        "        if return_attn_matrix:\n",
        "          return self.mlp_head(x), attn_matrix\n",
        "        else:\n",
        "          return self.mlp_head(x)"
      ]
    },
    {
      "cell_type": "code",
      "execution_count": null,
      "metadata": {
        "id": "IGD2JfImzOx4"
      },
      "outputs": [],
      "source": [
        "model = ViT(patch_size=7, dim=64, depth=6, heads=8, mlp_dim=128)"
      ]
    },
    {
      "cell_type": "code",
      "execution_count": null,
      "metadata": {
        "colab": {
          "base_uri": "https://localhost:8080/",
          "height": 844
        },
        "id": "jPqp5lxTzPA0",
        "outputId": "d55954f2-4ec2-4126-ad91-b5db3ebc4db1"
      },
      "outputs": [
        {
          "output_type": "stream",
          "name": "stdout",
          "text": [
            "Train Epoch: 1  Average loss: 0.0107\n",
            "Valid set: Average loss: 0.0051, Accuracy: 11433/12000 (95.2750)\n",
            "\n",
            "Train Epoch: 2  Average loss: 0.0043\n",
            "Valid set: Average loss: 0.0043, Accuracy: 11493/12000 (95.7750)\n",
            "\n",
            "Train Epoch: 3  Average loss: 0.0036\n",
            "Valid set: Average loss: 0.0034, Accuracy: 11616/12000 (96.8000)\n",
            "\n",
            "Train Epoch: 4  Average loss: 0.0029\n",
            "Valid set: Average loss: 0.0030, Accuracy: 11642/12000 (97.0167)\n",
            "\n",
            "Train Epoch: 5  Average loss: 0.0026\n",
            "Valid set: Average loss: 0.0032, Accuracy: 11624/12000 (96.8667)\n",
            "\n",
            "Train Epoch: 6  Average loss: 0.0024\n",
            "Valid set: Average loss: 0.0034, Accuracy: 11601/12000 (96.6750)\n",
            "\n",
            "Train Epoch: 7  Average loss: 0.0021\n",
            "Valid set: Average loss: 0.0028, Accuracy: 11684/12000 (97.3667)\n",
            "\n",
            "Train Epoch: 8  Average loss: 0.0019\n",
            "Valid set: Average loss: 0.0029, Accuracy: 11671/12000 (97.2583)\n",
            "\n",
            "Train Epoch: 9  Average loss: 0.0016\n",
            "Valid set: Average loss: 0.0029, Accuracy: 11659/12000 (97.1583)\n",
            "\n",
            "Train Epoch: 10  Average loss: 0.0016\n",
            "Valid set: Average loss: 0.0025, Accuracy: 11693/12000 (97.4417)\n",
            "\n"
          ]
        },
        {
          "output_type": "display_data",
          "data": {
            "text/plain": [
              "<Figure size 432x288 with 1 Axes>"
            ],
            "image/png": "[encoded data removed]"
          },
          "metadata": {
            "needs_background": "light"
          }
        },
        {
          "output_type": "stream",
          "name": "stdout",
          "text": [
            "Test set: Average loss: 0.0025, Accuracy: 9752/10000 (97.5200)\n"
          ]
        },
        {
          "output_type": "execute_result",
          "data": {
            "text/plain": [
              "(0.002481721274758456, 0.9752)"
            ]
          },
          "metadata": {},
          "execution_count": 30
        }
      ],
      "source": [
        "trained_model, train_loss_history, valid_loss_history, valid_accuracy_history = run_training_loop(model)\n",
        "plt.plot(train_loss_history, label='train')\n",
        "plt.plot(valid_loss_history, label='valid')\n",
        "plt.legend()\n",
        "plt.show()\n",
        "\n",
        "test_performance(model)"
      ]
    },
    {
      "cell_type": "code",
      "execution_count": null,
      "metadata": {
        "colab": {
          "base_uri": "https://localhost:8080/",
          "height": 812
        },
        "id": "iWvXxIJ5sKUF",
        "outputId": "868b93a3-593f-424a-91fe-7cffe26b6e18"
      },
      "outputs": [
        {
          "output_type": "execute_result",
          "data": {
            "text/plain": [
              "Text(0.5, 0.98, 'validation attention weights for 8 heads')"
            ]
          },
          "metadata": {},
          "execution_count": 52
        },
        {
          "output_type": "display_data",
          "data": {
            "text/plain": [
              "<Figure size 1008x1008 with 8 Axes>"
            ],
            "image/png": "[encoded data removed]"
          },
          "metadata": {
            "needs_background": "light"
          }
        }
      ],
      "source": [
        "valid_loader = torch.utils.data.DataLoader(valid_dataset, batch_size=batch_size, shuffle=True)\n",
        "with torch.no_grad():\n",
        "  for data, target in valid_loader:\n",
        "      output, attn_matrix = trained_model(data, return_attn_matrix = True)\n",
        "      break\n",
        "\n",
        "matrix = []\n",
        "for i in attn_matrix:\n",
        "  i = torch.mean(i,0)\n",
        "  matrix.append(i)\n",
        "  \n",
        "fig, ax = plt.subplots(2, 4, figsize=(14,14))\n",
        "for i in np.arange(2):\n",
        "    for j in np.arange(4):\n",
        "        ax[i,j].imshow(matrix[j+4*i],cmap = \"hot\")\n",
        "fig.suptitle(\"validation attention weights for 8 heads\")"
      ]
    },
    {
      "cell_type": "code",
      "source": [],
      "metadata": {
        "id": "_08-7GHkqrgO"
      },
      "execution_count": null,
      "outputs": []
    }
  ],
  "metadata": {
    "colab": {
      "provenance": []
    },
    "gpuClass": "standard",
    "kernelspec": {
      "display_name": "Python 3",
      "name": "python3"
    },
    "language_info": {
      "name": "python"
    },
    "widgets": {
      "application/vnd.jupyter.widget-state+json": {
        "e69dedd4148c457d8aab9412f611e58b": {
          "model_module": "@jupyter-widgets/controls",
          "model_name": "HBoxModel",
          "model_module_version": "1.5.0",
          "state": {
            "_dom_classes": [],
            "_model_module": "@jupyter-widgets/controls",
            "_model_module_version": "1.5.0",
            "_model_name": "HBoxModel",
            "_view_count": null,
            "_view_module": "@jupyter-widgets/controls",
            "_view_module_version": "1.5.0",
            "_view_name": "HBoxView",
            "box_style": "",
            "children": [
              "IPY_MODEL_508a3c23f94040c58f0d955b08dc0c85",
              "IPY_MODEL_c036da9381904bf8b4feb305155f09a4",
              "IPY_MODEL_473f37b81e6a40b1885dcf887e82a59e"
            ],
            "layout": "IPY_MODEL_1d1b7230f0bd4391ace4aa18ad86dabc"
          }
        },
        "508a3c23f94040c58f0d955b08dc0c85": {
          "model_module": "@jupyter-widgets/controls",
          "model_name": "HTMLModel",
          "model_module_version": "1.5.0",
          "state": {
            "_dom_classes": [],
            "_model_module": "@jupyter-widgets/controls",
            "_model_module_version": "1.5.0",
            "_model_name": "HTMLModel",
            "_view_count": null,
            "_view_module": "@jupyter-widgets/controls",
            "_view_module_version": "1.5.0",
            "_view_name": "HTMLView",
            "description": "",
            "description_tooltip": null,
            "layout": "IPY_MODEL_591b945982a2486d91283fc17234efa8",
            "placeholder": "​",
            "style": "IPY_MODEL_c0b616fdb3264c1b87cc8d06d2baa0dc",
            "value": "100%"
          }
        },
        "c036da9381904bf8b4feb305155f09a4": {
          "model_module": "@jupyter-widgets/controls",
          "model_name": "FloatProgressModel",
          "model_module_version": "1.5.0",
          "state": {
            "_dom_classes": [],
            "_model_module": "@jupyter-widgets/controls",
            "_model_module_version": "1.5.0",
            "_model_name": "FloatProgressModel",
            "_view_count": null,
            "_view_module": "@jupyter-widgets/controls",
            "_view_module_version": "1.5.0",
            "_view_name": "ProgressView",
            "bar_style": "success",
            "description": "",
            "description_tooltip": null,
            "layout": "IPY_MODEL_d4e6479cb0fd4701a460768def91122c",
            "max": 9912422,
            "min": 0,
            "orientation": "horizontal",
            "style": "IPY_MODEL_d4be363c065640fd9dd0f8a8a88d4357",
            "value": 9912422
          }
        },
        "473f37b81e6a40b1885dcf887e82a59e": {
          "model_module": "@jupyter-widgets/controls",
          "model_name": "HTMLModel",
          "model_module_version": "1.5.0",
          "state": {
            "_dom_classes": [],
            "_model_module": "@jupyter-widgets/controls",
            "_model_module_version": "1.5.0",
            "_model_name": "HTMLModel",
            "_view_count": null,
            "_view_module": "@jupyter-widgets/controls",
            "_view_module_version": "1.5.0",
            "_view_name": "HTMLView",
            "description": "",
            "description_tooltip": null,
            "layout": "IPY_MODEL_87559191915d431a93eb49b15d58e2b8",
            "placeholder": "​",
            "style": "IPY_MODEL_ff2eb4df582a45caa6490910b47e699b",
            "value": " 9912422/9912422 [00:00&lt;00:00, 131126776.04it/s]"
          }
        },
        "1d1b7230f0bd4391ace4aa18ad86dabc": {
          "model_module": "@jupyter-widgets/base",
          "model_name": "LayoutModel",
          "model_module_version": "1.2.0",
          "state": {
            "_model_module": "@jupyter-widgets/base",
            "_model_module_version": "1.2.0",
            "_model_name": "LayoutModel",
            "_view_count": null,
            "_view_module": "@jupyter-widgets/base",
            "_view_module_version": "1.2.0",
            "_view_name": "LayoutView",
            "align_content": null,
            "align_items": null,
            "align_self": null,
            "border": null,
            "bottom": null,
            "display": null,
            "flex": null,
            "flex_flow": null,
            "grid_area": null,
            "grid_auto_columns": null,
            "grid_auto_flow": null,
            "grid_auto_rows": null,
            "grid_column": null,
            "grid_gap": null,
            "grid_row": null,
            "grid_template_areas": null,
            "grid_template_columns": null,
            "grid_template_rows": null,
            "height": null,
            "justify_content": null,
            "justify_items": null,
            "left": null,
            "margin": null,
            "max_height": null,
            "max_width": null,
            "min_height": null,
            "min_width": null,
            "object_fit": null,
            "object_position": null,
            "order": null,
            "overflow": null,
            "overflow_x": null,
            "overflow_y": null,
            "padding": null,
            "right": null,
            "top": null,
            "visibility": null,
            "width": null
          }
        },
        "591b945982a2486d91283fc17234efa8": {
          "model_module": "@jupyter-widgets/base",
          "model_name": "LayoutModel",
          "model_module_version": "1.2.0",
          "state": {
            "_model_module": "@jupyter-widgets/base",
            "_model_module_version": "1.2.0",
            "_model_name": "LayoutModel",
            "_view_count": null,
            "_view_module": "@jupyter-widgets/base",
            "_view_module_version": "1.2.0",
            "_view_name": "LayoutView",
            "align_content": null,
            "align_items": null,
            "align_self": null,
            "border": null,
            "bottom": null,
            "display": null,
            "flex": null,
            "flex_flow": null,
            "grid_area": null,
            "grid_auto_columns": null,
            "grid_auto_flow": null,
            "grid_auto_rows": null,
            "grid_column": null,
            "grid_gap": null,
            "grid_row": null,
            "grid_template_areas": null,
            "grid_template_columns": null,
            "grid_template_rows": null,
            "height": null,
            "justify_content": null,
            "justify_items": null,
            "left": null,
            "margin": null,
            "max_height": null,
            "max_width": null,
            "min_height": null,
            "min_width": null,
            "object_fit": null,
            "object_position": null,
            "order": null,
            "overflow": null,
            "overflow_x": null,
            "overflow_y": null,
            "padding": null,
            "right": null,
            "top": null,
            "visibility": null,
            "width": null
          }
        },
        "c0b616fdb3264c1b87cc8d06d2baa0dc": {
          "model_module": "@jupyter-widgets/controls",
          "model_name": "DescriptionStyleModel",
          "model_module_version": "1.5.0",
          "state": {
            "_model_module": "@jupyter-widgets/controls",
            "_model_module_version": "1.5.0",
            "_model_name": "DescriptionStyleModel",
            "_view_count": null,
            "_view_module": "@jupyter-widgets/base",
            "_view_module_version": "1.2.0",
            "_view_name": "StyleView",
            "description_width": ""
          }
        },
        "d4e6479cb0fd4701a460768def91122c": {
          "model_module": "@jupyter-widgets/base",
          "model_name": "LayoutModel",
          "model_module_version": "1.2.0",
          "state": {
            "_model_module": "@jupyter-widgets/base",
            "_model_module_version": "1.2.0",
            "_model_name": "LayoutModel",
            "_view_count": null,
            "_view_module": "@jupyter-widgets/base",
            "_view_module_version": "1.2.0",
            "_view_name": "LayoutView",
            "align_content": null,
            "align_items": null,
            "align_self": null,
            "border": null,
            "bottom": null,
            "display": null,
            "flex": null,
            "flex_flow": null,
            "grid_area": null,
            "grid_auto_columns": null,
            "grid_auto_flow": null,
            "grid_auto_rows": null,
            "grid_column": null,
            "grid_gap": null,
            "grid_row": null,
            "grid_template_areas": null,
            "grid_template_columns": null,
            "grid_template_rows": null,
            "height": null,
            "justify_content": null,
            "justify_items": null,
            "left": null,
            "margin": null,
            "max_height": null,
            "max_width": null,
            "min_height": null,
            "min_width": null,
            "object_fit": null,
            "object_position": null,
            "order": null,
            "overflow": null,
            "overflow_x": null,
            "overflow_y": null,
            "padding": null,
            "right": null,
            "top": null,
            "visibility": null,
            "width": null
          }
        },
        "d4be363c065640fd9dd0f8a8a88d4357": {
          "model_module": "@jupyter-widgets/controls",
          "model_name": "ProgressStyleModel",
          "model_module_version": "1.5.0",
          "state": {
            "_model_module": "@jupyter-widgets/controls",
            "_model_module_version": "1.5.0",
            "_model_name": "ProgressStyleModel",
            "_view_count": null,
            "_view_module": "@jupyter-widgets/base",
            "_view_module_version": "1.2.0",
            "_view_name": "StyleView",
            "bar_color": null,
            "description_width": ""
          }
        },
        "87559191915d431a93eb49b15d58e2b8": {
          "model_module": "@jupyter-widgets/base",
          "model_name": "LayoutModel",
          "model_module_version": "1.2.0",
          "state": {
            "_model_module": "@jupyter-widgets/base",
            "_model_module_version": "1.2.0",
            "_model_name": "LayoutModel",
            "_view_count": null,
            "_view_module": "@jupyter-widgets/base",
            "_view_module_version": "1.2.0",
            "_view_name": "LayoutView",
            "align_content": null,
            "align_items": null,
            "align_self": null,
            "border": null,
            "bottom": null,
            "display": null,
            "flex": null,
            "flex_flow": null,
            "grid_area": null,
            "grid_auto_columns": null,
            "grid_auto_flow": null,
            "grid_auto_rows": null,
            "grid_column": null,
            "grid_gap": null,
            "grid_row": null,
            "grid_template_areas": null,
            "grid_template_columns": null,
            "grid_template_rows": null,
            "height": null,
            "justify_content": null,
            "justify_items": null,
            "left": null,
            "margin": null,
            "max_height": null,
            "max_width": null,
            "min_height": null,
            "min_width": null,
            "object_fit": null,
            "object_position": null,
            "order": null,
            "overflow": null,
            "overflow_x": null,
            "overflow_y": null,
            "padding": null,
            "right": null,
            "top": null,
            "visibility": null,
            "width": null
          }
        },
        "ff2eb4df582a45caa6490910b47e699b": {
          "model_module": "@jupyter-widgets/controls",
          "model_name": "DescriptionStyleModel",
          "model_module_version": "1.5.0",
          "state": {
            "_model_module": "@jupyter-widgets/controls",
            "_model_module_version": "1.5.0",
            "_model_name": "DescriptionStyleModel",
            "_view_count": null,
            "_view_module": "@jupyter-widgets/base",
            "_view_module_version": "1.2.0",
            "_view_name": "StyleView",
            "description_width": ""
          }
        },
        "623b1706177b4bcc9bd8b6fd93a7109d": {
          "model_module": "@jupyter-widgets/controls",
          "model_name": "HBoxModel",
          "model_module_version": "1.5.0",
          "state": {
            "_dom_classes": [],
            "_model_module": "@jupyter-widgets/controls",
            "_model_module_version": "1.5.0",
            "_model_name": "HBoxModel",
            "_view_count": null,
            "_view_module": "@jupyter-widgets/controls",
            "_view_module_version": "1.5.0",
            "_view_name": "HBoxView",
            "box_style": "",
            "children": [
              "IPY_MODEL_c8f7b94ea5bf43dcbe54e0b066748e20",
              "IPY_MODEL_bcc7086245a247ac9b94889796862a8a",
              "IPY_MODEL_9d0b917bf4f8408fa31bad2bb66c405d"
            ],
            "layout": "IPY_MODEL_c67f0221a8224324b013e4bf413199fa"
          }
        },
        "c8f7b94ea5bf43dcbe54e0b066748e20": {
          "model_module": "@jupyter-widgets/controls",
          "model_name": "HTMLModel",
          "model_module_version": "1.5.0",
          "state": {
            "_dom_classes": [],
            "_model_module": "@jupyter-widgets/controls",
            "_model_module_version": "1.5.0",
            "_model_name": "HTMLModel",
            "_view_count": null,
            "_view_module": "@jupyter-widgets/controls",
            "_view_module_version": "1.5.0",
            "_view_name": "HTMLView",
            "description": "",
            "description_tooltip": null,
            "layout": "IPY_MODEL_931bba1cce90408bb6f405029e9b5d6a",
            "placeholder": "​",
            "style": "IPY_MODEL_94aee18f9983403bbffc59cc40ca4004",
            "value": "100%"
          }
        },
        "bcc7086245a247ac9b94889796862a8a": {
          "model_module": "@jupyter-widgets/controls",
          "model_name": "FloatProgressModel",
          "model_module_version": "1.5.0",
          "state": {
            "_dom_classes": [],
            "_model_module": "@jupyter-widgets/controls",
            "_model_module_version": "1.5.0",
            "_model_name": "FloatProgressModel",
            "_view_count": null,
            "_view_module": "@jupyter-widgets/controls",
            "_view_module_version": "1.5.0",
            "_view_name": "ProgressView",
            "bar_style": "success",
            "description": "",
            "description_tooltip": null,
            "layout": "IPY_MODEL_1a50571798ef478599af0aa3c51db5cb",
            "max": 28881,
            "min": 0,
            "orientation": "horizontal",
            "style": "IPY_MODEL_1ba8749b7c9942a0b32d40cf08d5f6ca",
            "value": 28881
          }
        },
        "9d0b917bf4f8408fa31bad2bb66c405d": {
          "model_module": "@jupyter-widgets/controls",
          "model_name": "HTMLModel",
          "model_module_version": "1.5.0",
          "state": {
            "_dom_classes": [],
            "_model_module": "@jupyter-widgets/controls",
            "_model_module_version": "1.5.0",
            "_model_name": "HTMLModel",
            "_view_count": null,
            "_view_module": "@jupyter-widgets/controls",
            "_view_module_version": "1.5.0",
            "_view_name": "HTMLView",
            "description": "",
            "description_tooltip": null,
            "layout": "IPY_MODEL_2214908d688441e18f5b296652bde42e",
            "placeholder": "​",
            "style": "IPY_MODEL_1238ca36a4784654a9d27e2220ec20b8",
            "value": " 28881/28881 [00:00&lt;00:00, 987717.86it/s]"
          }
        },
        "c67f0221a8224324b013e4bf413199fa": {
          "model_module": "@jupyter-widgets/base",
          "model_name": "LayoutModel",
          "model_module_version": "1.2.0",
          "state": {
            "_model_module": "@jupyter-widgets/base",
            "_model_module_version": "1.2.0",
            "_model_name": "LayoutModel",
            "_view_count": null,
            "_view_module": "@jupyter-widgets/base",
            "_view_module_version": "1.2.0",
            "_view_name": "LayoutView",
            "align_content": null,
            "align_items": null,
            "align_self": null,
            "border": null,
            "bottom": null,
            "display": null,
            "flex": null,
            "flex_flow": null,
            "grid_area": null,
            "grid_auto_columns": null,
            "grid_auto_flow": null,
            "grid_auto_rows": null,
            "grid_column": null,
            "grid_gap": null,
            "grid_row": null,
            "grid_template_areas": null,
            "grid_template_columns": null,
            "grid_template_rows": null,
            "height": null,
            "justify_content": null,
            "justify_items": null,
            "left": null,
            "margin": null,
            "max_height": null,
            "max_width": null,
            "min_height": null,
            "min_width": null,
            "object_fit": null,
            "object_position": null,
            "order": null,
            "overflow": null,
            "overflow_x": null,
            "overflow_y": null,
            "padding": null,
            "right": null,
            "top": null,
            "visibility": null,
            "width": null
          }
        },
        "931bba1cce90408bb6f405029e9b5d6a": {
          "model_module": "@jupyter-widgets/base",
          "model_name": "LayoutModel",
          "model_module_version": "1.2.0",
          "state": {
            "_model_module": "@jupyter-widgets/base",
            "_model_module_version": "1.2.0",
            "_model_name": "LayoutModel",
            "_view_count": null,
            "_view_module": "@jupyter-widgets/base",
            "_view_module_version": "1.2.0",
            "_view_name": "LayoutView",
            "align_content": null,
            "align_items": null,
            "align_self": null,
            "border": null,
            "bottom": null,
            "display": null,
            "flex": null,
            "flex_flow": null,
            "grid_area": null,
            "grid_auto_columns": null,
            "grid_auto_flow": null,
            "grid_auto_rows": null,
            "grid_column": null,
            "grid_gap": null,
            "grid_row": null,
            "grid_template_areas": null,
            "grid_template_columns": null,
            "grid_template_rows": null,
            "height": null,
            "justify_content": null,
            "justify_items": null,
            "left": null,
            "margin": null,
            "max_height": null,
            "max_width": null,
            "min_height": null,
            "min_width": null,
            "object_fit": null,
            "object_position": null,
            "order": null,
            "overflow": null,
            "overflow_x": null,
            "overflow_y": null,
            "padding": null,
            "right": null,
            "top": null,
            "visibility": null,
            "width": null
          }
        },
        "94aee18f9983403bbffc59cc40ca4004": {
          "model_module": "@jupyter-widgets/controls",
          "model_name": "DescriptionStyleModel",
          "model_module_version": "1.5.0",
          "state": {
            "_model_module": "@jupyter-widgets/controls",
            "_model_module_version": "1.5.0",
            "_model_name": "DescriptionStyleModel",
            "_view_count": null,
            "_view_module": "@jupyter-widgets/base",
            "_view_module_version": "1.2.0",
            "_view_name": "StyleView",
            "description_width": ""
          }
        },
        "1a50571798ef478599af0aa3c51db5cb": {
          "model_module": "@jupyter-widgets/base",
          "model_name": "LayoutModel",
          "model_module_version": "1.2.0",
          "state": {
            "_model_module": "@jupyter-widgets/base",
            "_model_module_version": "1.2.0",
            "_model_name": "LayoutModel",
            "_view_count": null,
            "_view_module": "@jupyter-widgets/base",
            "_view_module_version": "1.2.0",
            "_view_name": "LayoutView",
            "align_content": null,
            "align_items": null,
            "align_self": null,
            "border": null,
            "bottom": null,
            "display": null,
            "flex": null,
            "flex_flow": null,
            "grid_area": null,
            "grid_auto_columns": null,
            "grid_auto_flow": null,
            "grid_auto_rows": null,
            "grid_column": null,
            "grid_gap": null,
            "grid_row": null,
            "grid_template_areas": null,
            "grid_template_columns": null,
            "grid_template_rows": null,
            "height": null,
            "justify_content": null,
            "justify_items": null,
            "left": null,
            "margin": null,
            "max_height": null,
            "max_width": null,
            "min_height": null,
            "min_width": null,
            "object_fit": null,
            "object_position": null,
            "order": null,
            "overflow": null,
            "overflow_x": null,
            "overflow_y": null,
            "padding": null,
            "right": null,
            "top": null,
            "visibility": null,
            "width": null
          }
        },
        "1ba8749b7c9942a0b32d40cf08d5f6ca": {
          "model_module": "@jupyter-widgets/controls",
          "model_name": "ProgressStyleModel",
          "model_module_version": "1.5.0",
          "state": {
            "_model_module": "@jupyter-widgets/controls",
            "_model_module_version": "1.5.0",
            "_model_name": "ProgressStyleModel",
            "_view_count": null,
            "_view_module": "@jupyter-widgets/base",
            "_view_module_version": "1.2.0",
            "_view_name": "StyleView",
            "bar_color": null,
            "description_width": ""
          }
        },
        "2214908d688441e18f5b296652bde42e": {
          "model_module": "@jupyter-widgets/base",
          "model_name": "LayoutModel",
          "model_module_version": "1.2.0",
          "state": {
            "_model_module": "@jupyter-widgets/base",
            "_model_module_version": "1.2.0",
            "_model_name": "LayoutModel",
            "_view_count": null,
            "_view_module": "@jupyter-widgets/base",
            "_view_module_version": "1.2.0",
            "_view_name": "LayoutView",
            "align_content": null,
            "align_items": null,
            "align_self": null,
            "border": null,
            "bottom": null,
            "display": null,
            "flex": null,
            "flex_flow": null,
            "grid_area": null,
            "grid_auto_columns": null,
            "grid_auto_flow": null,
            "grid_auto_rows": null,
            "grid_column": null,
            "grid_gap": null,
            "grid_row": null,
            "grid_template_areas": null,
            "grid_template_columns": null,
            "grid_template_rows": null,
            "height": null,
            "justify_content": null,
            "justify_items": null,
            "left": null,
            "margin": null,
            "max_height": null,
            "max_width": null,
            "min_height": null,
            "min_width": null,
            "object_fit": null,
            "object_position": null,
            "order": null,
            "overflow": null,
            "overflow_x": null,
            "overflow_y": null,
            "padding": null,
            "right": null,
            "top": null,
            "visibility": null,
            "width": null
          }
        },
        "1238ca36a4784654a9d27e2220ec20b8": {
          "model_module": "@jupyter-widgets/controls",
          "model_name": "DescriptionStyleModel",
          "model_module_version": "1.5.0",
          "state": {
            "_model_module": "@jupyter-widgets/controls",
            "_model_module_version": "1.5.0",
            "_model_name": "DescriptionStyleModel",
            "_view_count": null,
            "_view_module": "@jupyter-widgets/base",
            "_view_module_version": "1.2.0",
            "_view_name": "StyleView",
            "description_width": ""
          }
        },
        "528ed5d663d44e0aa793743dd8d34b80": {
          "model_module": "@jupyter-widgets/controls",
          "model_name": "HBoxModel",
          "model_module_version": "1.5.0",
          "state": {
            "_dom_classes": [],
            "_model_module": "@jupyter-widgets/controls",
            "_model_module_version": "1.5.0",
            "_model_name": "HBoxModel",
            "_view_count": null,
            "_view_module": "@jupyter-widgets/controls",
            "_view_module_version": "1.5.0",
            "_view_name": "HBoxView",
            "box_style": "",
            "children": [
              "IPY_MODEL_952076da15504404a5b01963c4f9325e",
              "IPY_MODEL_f00ad07368b14339b0aa3dcdf194832d",
              "IPY_MODEL_b424902533824ab99d31e6b5d43d167e"
            ],
            "layout": "IPY_MODEL_cdd28f9df8004317895e517c785b0348"
          }
        },
        "952076da15504404a5b01963c4f9325e": {
          "model_module": "@jupyter-widgets/controls",
          "model_name": "HTMLModel",
          "model_module_version": "1.5.0",
          "state": {
            "_dom_classes": [],
            "_model_module": "@jupyter-widgets/controls",
            "_model_module_version": "1.5.0",
            "_model_name": "HTMLModel",
            "_view_count": null,
            "_view_module": "@jupyter-widgets/controls",
            "_view_module_version": "1.5.0",
            "_view_name": "HTMLView",
            "description": "",
            "description_tooltip": null,
            "layout": "IPY_MODEL_c8b0fe33be4642dc9c65ea0d0f91eeb4",
            "placeholder": "​",
            "style": "IPY_MODEL_b89dfa78083a4647877d0de13a532d1e",
            "value": "100%"
          }
        },
        "f00ad07368b14339b0aa3dcdf194832d": {
          "model_module": "@jupyter-widgets/controls",
          "model_name": "FloatProgressModel",
          "model_module_version": "1.5.0",
          "state": {
            "_dom_classes": [],
            "_model_module": "@jupyter-widgets/controls",
            "_model_module_version": "1.5.0",
            "_model_name": "FloatProgressModel",
            "_view_count": null,
            "_view_module": "@jupyter-widgets/controls",
            "_view_module_version": "1.5.0",
            "_view_name": "ProgressView",
            "bar_style": "success",
            "description": "",
            "description_tooltip": null,
            "layout": "IPY_MODEL_d5761fe99dcd45ba90c33e9c2529340a",
            "max": 1648877,
            "min": 0,
            "orientation": "horizontal",
            "style": "IPY_MODEL_3da3ee468d7e4c82a9b88a2fdda09e8f",
            "value": 1648877
          }
        },
        "b424902533824ab99d31e6b5d43d167e": {
          "model_module": "@jupyter-widgets/controls",
          "model_name": "HTMLModel",
          "model_module_version": "1.5.0",
          "state": {
            "_dom_classes": [],
            "_model_module": "@jupyter-widgets/controls",
            "_model_module_version": "1.5.0",
            "_model_name": "HTMLModel",
            "_view_count": null,
            "_view_module": "@jupyter-widgets/controls",
            "_view_module_version": "1.5.0",
            "_view_name": "HTMLView",
            "description": "",
            "description_tooltip": null,
            "layout": "IPY_MODEL_8a266b26343f45aaaa1053b49db4596e",
            "placeholder": "​",
            "style": "IPY_MODEL_f7095ff1ce884c5db959f9dc9519fcca",
            "value": " 1648877/1648877 [00:00&lt;00:00, 27594799.35it/s]"
          }
        },
        "cdd28f9df8004317895e517c785b0348": {
          "model_module": "@jupyter-widgets/base",
          "model_name": "LayoutModel",
          "model_module_version": "1.2.0",
          "state": {
            "_model_module": "@jupyter-widgets/base",
            "_model_module_version": "1.2.0",
            "_model_name": "LayoutModel",
            "_view_count": null,
            "_view_module": "@jupyter-widgets/base",
            "_view_module_version": "1.2.0",
            "_view_name": "LayoutView",
            "align_content": null,
            "align_items": null,
            "align_self": null,
            "border": null,
            "bottom": null,
            "display": null,
            "flex": null,
            "flex_flow": null,
            "grid_area": null,
            "grid_auto_columns": null,
            "grid_auto_flow": null,
            "grid_auto_rows": null,
            "grid_column": null,
            "grid_gap": null,
            "grid_row": null,
            "grid_template_areas": null,
            "grid_template_columns": null,
            "grid_template_rows": null,
            "height": null,
            "justify_content": null,
            "justify_items": null,
            "left": null,
            "margin": null,
            "max_height": null,
            "max_width": null,
            "min_height": null,
            "min_width": null,
            "object_fit": null,
            "object_position": null,
            "order": null,
            "overflow": null,
            "overflow_x": null,
            "overflow_y": null,
            "padding": null,
            "right": null,
            "top": null,
            "visibility": null,
            "width": null
          }
        },
        "c8b0fe33be4642dc9c65ea0d0f91eeb4": {
          "model_module": "@jupyter-widgets/base",
          "model_name": "LayoutModel",
          "model_module_version": "1.2.0",
          "state": {
            "_model_module": "@jupyter-widgets/base",
            "_model_module_version": "1.2.0",
            "_model_name": "LayoutModel",
            "_view_count": null,
            "_view_module": "@jupyter-widgets/base",
            "_view_module_version": "1.2.0",
            "_view_name": "LayoutView",
            "align_content": null,
            "align_items": null,
            "align_self": null,
            "border": null,
            "bottom": null,
            "display": null,
            "flex": null,
            "flex_flow": null,
            "grid_area": null,
            "grid_auto_columns": null,
            "grid_auto_flow": null,
            "grid_auto_rows": null,
            "grid_column": null,
            "grid_gap": null,
            "grid_row": null,
            "grid_template_areas": null,
            "grid_template_columns": null,
            "grid_template_rows": null,
            "height": null,
            "justify_content": null,
            "justify_items": null,
            "left": null,
            "margin": null,
            "max_height": null,
            "max_width": null,
            "min_height": null,
            "min_width": null,
            "object_fit": null,
            "object_position": null,
            "order": null,
            "overflow": null,
            "overflow_x": null,
            "overflow_y": null,
            "padding": null,
            "right": null,
            "top": null,
            "visibility": null,
            "width": null
          }
        },
        "b89dfa78083a4647877d0de13a532d1e": {
          "model_module": "@jupyter-widgets/controls",
          "model_name": "DescriptionStyleModel",
          "model_module_version": "1.5.0",
          "state": {
            "_model_module": "@jupyter-widgets/controls",
            "_model_module_version": "1.5.0",
            "_model_name": "DescriptionStyleModel",
            "_view_count": null,
            "_view_module": "@jupyter-widgets/base",
            "_view_module_version": "1.2.0",
            "_view_name": "StyleView",
            "description_width": ""
          }
        },
        "d5761fe99dcd45ba90c33e9c2529340a": {
          "model_module": "@jupyter-widgets/base",
          "model_name": "LayoutModel",
          "model_module_version": "1.2.0",
          "state": {
            "_model_module": "@jupyter-widgets/base",
            "_model_module_version": "1.2.0",
            "_model_name": "LayoutModel",
            "_view_count": null,
            "_view_module": "@jupyter-widgets/base",
            "_view_module_version": "1.2.0",
            "_view_name": "LayoutView",
            "align_content": null,
            "align_items": null,
            "align_self": null,
            "border": null,
            "bottom": null,
            "display": null,
            "flex": null,
            "flex_flow": null,
            "grid_area": null,
            "grid_auto_columns": null,
            "grid_auto_flow": null,
            "grid_auto_rows": null,
            "grid_column": null,
            "grid_gap": null,
            "grid_row": null,
            "grid_template_areas": null,
            "grid_template_columns": null,
            "grid_template_rows": null,
            "height": null,
            "justify_content": null,
            "justify_items": null,
            "left": null,
            "margin": null,
            "max_height": null,
            "max_width": null,
            "min_height": null,
            "min_width": null,
            "object_fit": null,
            "object_position": null,
            "order": null,
            "overflow": null,
            "overflow_x": null,
            "overflow_y": null,
            "padding": null,
            "right": null,
            "top": null,
            "visibility": null,
            "width": null
          }
        },
        "3da3ee468d7e4c82a9b88a2fdda09e8f": {
          "model_module": "@jupyter-widgets/controls",
          "model_name": "ProgressStyleModel",
          "model_module_version": "1.5.0",
          "state": {
            "_model_module": "@jupyter-widgets/controls",
            "_model_module_version": "1.5.0",
            "_model_name": "ProgressStyleModel",
            "_view_count": null,
            "_view_module": "@jupyter-widgets/base",
            "_view_module_version": "1.2.0",
            "_view_name": "StyleView",
            "bar_color": null,
            "description_width": ""
          }
        },
        "8a266b26343f45aaaa1053b49db4596e": {
          "model_module": "@jupyter-widgets/base",
          "model_name": "LayoutModel",
          "model_module_version": "1.2.0",
          "state": {
            "_model_module": "@jupyter-widgets/base",
            "_model_module_version": "1.2.0",
            "_model_name": "LayoutModel",
            "_view_count": null,
            "_view_module": "@jupyter-widgets/base",
            "_view_module_version": "1.2.0",
            "_view_name": "LayoutView",
            "align_content": null,
            "align_items": null,
            "align_self": null,
            "border": null,
            "bottom": null,
            "display": null,
            "flex": null,
            "flex_flow": null,
            "grid_area": null,
            "grid_auto_columns": null,
            "grid_auto_flow": null,
            "grid_auto_rows": null,
            "grid_column": null,
            "grid_gap": null,
            "grid_row": null,
            "grid_template_areas": null,
            "grid_template_columns": null,
            "grid_template_rows": null,
            "height": null,
            "justify_content": null,
            "justify_items": null,
            "left": null,
            "margin": null,
            "max_height": null,
            "max_width": null,
            "min_height": null,
            "min_width": null,
            "object_fit": null,
            "object_position": null,
            "order": null,
            "overflow": null,
            "overflow_x": null,
            "overflow_y": null,
            "padding": null,
            "right": null,
            "top": null,
            "visibility": null,
            "width": null
          }
        },
        "f7095ff1ce884c5db959f9dc9519fcca": {
          "model_module": "@jupyter-widgets/controls",
          "model_name": "DescriptionStyleModel",
          "model_module_version": "1.5.0",
          "state": {
            "_model_module": "@jupyter-widgets/controls",
            "_model_module_version": "1.5.0",
            "_model_name": "DescriptionStyleModel",
            "_view_count": null,
            "_view_module": "@jupyter-widgets/base",
            "_view_module_version": "1.2.0",
            "_view_name": "StyleView",
            "description_width": ""
          }
        },
        "06853699065e4cc89ec465f80084f315": {
          "model_module": "@jupyter-widgets/controls",
          "model_name": "HBoxModel",
          "model_module_version": "1.5.0",
          "state": {
            "_dom_classes": [],
            "_model_module": "@jupyter-widgets/controls",
            "_model_module_version": "1.5.0",
            "_model_name": "HBoxModel",
            "_view_count": null,
            "_view_module": "@jupyter-widgets/controls",
            "_view_module_version": "1.5.0",
            "_view_name": "HBoxView",
            "box_style": "",
            "children": [
              "IPY_MODEL_fd213c5e8b8043f7b4f57ece0233647c",
              "IPY_MODEL_e3d3a952d19a4811b08df8af594731e9",
              "IPY_MODEL_e868b1fc23034899b91860181f196b77"
            ],
            "layout": "IPY_MODEL_c6d3884320d84edd8564bd12ad7e41ff"
          }
        },
        "fd213c5e8b8043f7b4f57ece0233647c": {
          "model_module": "@jupyter-widgets/controls",
          "model_name": "HTMLModel",
          "model_module_version": "1.5.0",
          "state": {
            "_dom_classes": [],
            "_model_module": "@jupyter-widgets/controls",
            "_model_module_version": "1.5.0",
            "_model_name": "HTMLModel",
            "_view_count": null,
            "_view_module": "@jupyter-widgets/controls",
            "_view_module_version": "1.5.0",
            "_view_name": "HTMLView",
            "description": "",
            "description_tooltip": null,
            "layout": "IPY_MODEL_8ac5459ee777449486f4ff2887dfca5b",
            "placeholder": "​",
            "style": "IPY_MODEL_d2c035e460d44b71925f6098222d3da3",
            "value": "100%"
          }
        },
        "e3d3a952d19a4811b08df8af594731e9": {
          "model_module": "@jupyter-widgets/controls",
          "model_name": "FloatProgressModel",
          "model_module_version": "1.5.0",
          "state": {
            "_dom_classes": [],
            "_model_module": "@jupyter-widgets/controls",
            "_model_module_version": "1.5.0",
            "_model_name": "FloatProgressModel",
            "_view_count": null,
            "_view_module": "@jupyter-widgets/controls",
            "_view_module_version": "1.5.0",
            "_view_name": "ProgressView",
            "bar_style": "success",
            "description": "",
            "description_tooltip": null,
            "layout": "IPY_MODEL_bf86245460cc4319923141571afc3f26",
            "max": 4542,
            "min": 0,
            "orientation": "horizontal",
            "style": "IPY_MODEL_d75ca3ce261044448ede0a991ec6c87e",
            "value": 4542
          }
        },
        "e868b1fc23034899b91860181f196b77": {
          "model_module": "@jupyter-widgets/controls",
          "model_name": "HTMLModel",
          "model_module_version": "1.5.0",
          "state": {
            "_dom_classes": [],
            "_model_module": "@jupyter-widgets/controls",
            "_model_module_version": "1.5.0",
            "_model_name": "HTMLModel",
            "_view_count": null,
            "_view_module": "@jupyter-widgets/controls",
            "_view_module_version": "1.5.0",
            "_view_name": "HTMLView",
            "description": "",
            "description_tooltip": null,
            "layout": "IPY_MODEL_79da1e1300654419a2a741705b8d3c2b",
            "placeholder": "​",
            "style": "IPY_MODEL_945cbdf51fd647db9542ed3862624d6b",
            "value": " 4542/4542 [00:00&lt;00:00, 132046.83it/s]"
          }
        },
        "c6d3884320d84edd8564bd12ad7e41ff": {
          "model_module": "@jupyter-widgets/base",
          "model_name": "LayoutModel",
          "model_module_version": "1.2.0",
          "state": {
            "_model_module": "@jupyter-widgets/base",
            "_model_module_version": "1.2.0",
            "_model_name": "LayoutModel",
            "_view_count": null,
            "_view_module": "@jupyter-widgets/base",
            "_view_module_version": "1.2.0",
            "_view_name": "LayoutView",
            "align_content": null,
            "align_items": null,
            "align_self": null,
            "border": null,
            "bottom": null,
            "display": null,
            "flex": null,
            "flex_flow": null,
            "grid_area": null,
            "grid_auto_columns": null,
            "grid_auto_flow": null,
            "grid_auto_rows": null,
            "grid_column": null,
            "grid_gap": null,
            "grid_row": null,
            "grid_template_areas": null,
            "grid_template_columns": null,
            "grid_template_rows": null,
            "height": null,
            "justify_content": null,
            "justify_items": null,
            "left": null,
            "margin": null,
            "max_height": null,
            "max_width": null,
            "min_height": null,
            "min_width": null,
            "object_fit": null,
            "object_position": null,
            "order": null,
            "overflow": null,
            "overflow_x": null,
            "overflow_y": null,
            "padding": null,
            "right": null,
            "top": null,
            "visibility": null,
            "width": null
          }
        },
        "8ac5459ee777449486f4ff2887dfca5b": {
          "model_module": "@jupyter-widgets/base",
          "model_name": "LayoutModel",
          "model_module_version": "1.2.0",
          "state": {
            "_model_module": "@jupyter-widgets/base",
            "_model_module_version": "1.2.0",
            "_model_name": "LayoutModel",
            "_view_count": null,
            "_view_module": "@jupyter-widgets/base",
            "_view_module_version": "1.2.0",
            "_view_name": "LayoutView",
            "align_content": null,
            "align_items": null,
            "align_self": null,
            "border": null,
            "bottom": null,
            "display": null,
            "flex": null,
            "flex_flow": null,
            "grid_area": null,
            "grid_auto_columns": null,
            "grid_auto_flow": null,
            "grid_auto_rows": null,
            "grid_column": null,
            "grid_gap": null,
            "grid_row": null,
            "grid_template_areas": null,
            "grid_template_columns": null,
            "grid_template_rows": null,
            "height": null,
            "justify_content": null,
            "justify_items": null,
            "left": null,
            "margin": null,
            "max_height": null,
            "max_width": null,
            "min_height": null,
            "min_width": null,
            "object_fit": null,
            "object_position": null,
            "order": null,
            "overflow": null,
            "overflow_x": null,
            "overflow_y": null,
            "padding": null,
            "right": null,
            "top": null,
            "visibility": null,
            "width": null
          }
        },
        "d2c035e460d44b71925f6098222d3da3": {
          "model_module": "@jupyter-widgets/controls",
          "model_name": "DescriptionStyleModel",
          "model_module_version": "1.5.0",
          "state": {
            "_model_module": "@jupyter-widgets/controls",
            "_model_module_version": "1.5.0",
            "_model_name": "DescriptionStyleModel",
            "_view_count": null,
            "_view_module": "@jupyter-widgets/base",
            "_view_module_version": "1.2.0",
            "_view_name": "StyleView",
            "description_width": ""
          }
        },
        "bf86245460cc4319923141571afc3f26": {
          "model_module": "@jupyter-widgets/base",
          "model_name": "LayoutModel",
          "model_module_version": "1.2.0",
          "state": {
            "_model_module": "@jupyter-widgets/base",
            "_model_module_version": "1.2.0",
            "_model_name": "LayoutModel",
            "_view_count": null,
            "_view_module": "@jupyter-widgets/base",
            "_view_module_version": "1.2.0",
            "_view_name": "LayoutView",
            "align_content": null,
            "align_items": null,
            "align_self": null,
            "border": null,
            "bottom": null,
            "display": null,
            "flex": null,
            "flex_flow": null,
            "grid_area": null,
            "grid_auto_columns": null,
            "grid_auto_flow": null,
            "grid_auto_rows": null,
            "grid_column": null,
            "grid_gap": null,
            "grid_row": null,
            "grid_template_areas": null,
            "grid_template_columns": null,
            "grid_template_rows": null,
            "height": null,
            "justify_content": null,
            "justify_items": null,
            "left": null,
            "margin": null,
            "max_height": null,
            "max_width": null,
            "min_height": null,
            "min_width": null,
            "object_fit": null,
            "object_position": null,
            "order": null,
            "overflow": null,
            "overflow_x": null,
            "overflow_y": null,
            "padding": null,
            "right": null,
            "top": null,
            "visibility": null,
            "width": null
          }
        },
        "d75ca3ce261044448ede0a991ec6c87e": {
          "model_module": "@jupyter-widgets/controls",
          "model_name": "ProgressStyleModel",
          "model_module_version": "1.5.0",
          "state": {
            "_model_module": "@jupyter-widgets/controls",
            "_model_module_version": "1.5.0",
            "_model_name": "ProgressStyleModel",
            "_view_count": null,
            "_view_module": "@jupyter-widgets/base",
            "_view_module_version": "1.2.0",
            "_view_name": "StyleView",
            "bar_color": null,
            "description_width": ""
          }
        },
        "79da1e1300654419a2a741705b8d3c2b": {
          "model_module": "@jupyter-widgets/base",
          "model_name": "LayoutModel",
          "model_module_version": "1.2.0",
          "state": {
            "_model_module": "@jupyter-widgets/base",
            "_model_module_version": "1.2.0",
            "_model_name": "LayoutModel",
            "_view_count": null,
            "_view_module": "@jupyter-widgets/base",
            "_view_module_version": "1.2.0",
            "_view_name": "LayoutView",
            "align_content": null,
            "align_items": null,
            "align_self": null,
            "border": null,
            "bottom": null,
            "display": null,
            "flex": null,
            "flex_flow": null,
            "grid_area": null,
            "grid_auto_columns": null,
            "grid_auto_flow": null,
            "grid_auto_rows": null,
            "grid_column": null,
            "grid_gap": null,
            "grid_row": null,
            "grid_template_areas": null,
            "grid_template_columns": null,
            "grid_template_rows": null,
            "height": null,
            "justify_content": null,
            "justify_items": null,
            "left": null,
            "margin": null,
            "max_height": null,
            "max_width": null,
            "min_height": null,
            "min_width": null,
            "object_fit": null,
            "object_position": null,
            "order": null,
            "overflow": null,
            "overflow_x": null,
            "overflow_y": null,
            "padding": null,
            "right": null,
            "top": null,
            "visibility": null,
            "width": null
          }
        },
        "945cbdf51fd647db9542ed3862624d6b": {
          "model_module": "@jupyter-widgets/controls",
          "model_name": "DescriptionStyleModel",
          "model_module_version": "1.5.0",
          "state": {
            "_model_module": "@jupyter-widgets/controls",
            "_model_module_version": "1.5.0",
            "_model_name": "DescriptionStyleModel",
            "_view_count": null,
            "_view_module": "@jupyter-widgets/base",
            "_view_module_version": "1.2.0",
            "_view_name": "StyleView",
            "description_width": ""
          }
        }
      }
    }
  },
  "nbformat": 4,
  "nbformat_minor": 0
}
